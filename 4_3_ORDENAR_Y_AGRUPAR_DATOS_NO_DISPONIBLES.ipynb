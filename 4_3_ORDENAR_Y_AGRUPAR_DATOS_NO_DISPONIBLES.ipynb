{
  "nbformat": 4,
  "nbformat_minor": 5,
  "metadata": {
    "kernelspec": {
      "display_name": "Python 3",
      "language": "python",
      "name": "python3"
    },
    "language_info": {
      "codemirror_mode": {
        "name": "ipython",
        "version": 3
      },
      "file_extension": ".py",
      "mimetype": "text/x-python",
      "name": "python",
      "nbconvert_exporter": "python",
      "pygments_lexer": "ipython3",
      "version": "3.8.8"
    },
    "colab": {
      "name": "4_3_ORDENAR_Y_AGRUPAR_DATOS_NO_DISPONIBLES.ipynb",
      "provenance": [],
      "include_colab_link": true
    }
  },
  "cells": [
    {
      "cell_type": "markdown",
      "metadata": {
        "id": "view-in-github",
        "colab_type": "text"
      },
      "source": [
        "<a href=\"https://colab.research.google.com/github/leobioinf0/233_Introduccion_a_la_ciencia_de_datos/blob/main/4_3_ORDENAR_Y_AGRUPAR_DATOS_NO_DISPONIBLES.ipynb\" target=\"_parent\"><img src=\"https://colab.research.google.com/assets/colab-badge.svg\" alt=\"Open In Colab\"/></a>"
      ]
    },
    {
      "cell_type": "markdown",
      "metadata": {
        "id": "abad66f2-fd1a-4869-af4a-7fa44bc6009c"
      },
      "source": [
        "# 4.3 ORDENAR Y AGRUPAR DATOS NO DISPONIBLES\n",
        "\n",
        "En este artículo, empezaremos descubriendo una nueva función que nos permitirá generar  una serie de datos agrupados en torno a los valores de una columna. El primer paso, como es  habitual, es cargar la librería y crear un nuevo objeto con la base de datos que hemos usado  en la artículo anterior: "
      ],
      "id": "abad66f2-fd1a-4869-af4a-7fa44bc6009c"
    },
    {
      "cell_type": "code",
      "metadata": {
        "id": "9c7c1540-923a-41fe-b37b-a6953ee738f4"
      },
      "source": [
        "import pandas as pd \n",
        "data_frame = pd.read_csv('insurance.csv') "
      ],
      "id": "9c7c1540-923a-41fe-b37b-a6953ee738f4",
      "execution_count": 1,
      "outputs": []
    },
    {
      "cell_type": "markdown",
      "metadata": {
        "id": "92599154-c4ea-4b83-98a3-6e4705686f73"
      },
      "source": [
        "Vamos a ver cómo se distribuyen los valores de region:"
      ],
      "id": "92599154-c4ea-4b83-98a3-6e4705686f73"
    },
    {
      "cell_type": "code",
      "metadata": {
        "colab": {
          "base_uri": "https://localhost:8080/"
        },
        "id": "7186622c-b00c-4d1b-9fd0-dece33d1a01b",
        "outputId": "ce131034-fd7d-499d-c2f2-2bfa423521f1"
      },
      "source": [
        "data_frame.groupby('region').size()"
      ],
      "id": "7186622c-b00c-4d1b-9fd0-dece33d1a01b",
      "execution_count": 2,
      "outputs": [
        {
          "output_type": "execute_result",
          "data": {
            "text/plain": [
              "region\n",
              "northeast    324\n",
              "northwest    325\n",
              "southeast    364\n",
              "southwest    325\n",
              "dtype: int64"
            ]
          },
          "metadata": {
            "tags": []
          },
          "execution_count": 2
        }
      ]
    },
    {
      "cell_type": "markdown",
      "metadata": {
        "id": "3a8fb7bf-8384-4808-947d-a684191ff672"
      },
      "source": [
        "Aquí vemos cuántas observaciones tienen cada una de las diferentes regiones de la tabla madre.  \n",
        "Si queremos ver cuál es el valor máximo de bmi para cada región, hacemos:"
      ],
      "id": "3a8fb7bf-8384-4808-947d-a684191ff672"
    },
    {
      "cell_type": "code",
      "metadata": {
        "colab": {
          "base_uri": "https://localhost:8080/"
        },
        "id": "c0c9ee87-8b30-42e6-8f2a-23592c04a19e",
        "outputId": "f68a9302-bfdb-4b8a-e07f-0d6971e231b8"
      },
      "source": [
        "data_frame.groupby('region')['bmi'].max()"
      ],
      "id": "c0c9ee87-8b30-42e6-8f2a-23592c04a19e",
      "execution_count": 3,
      "outputs": [
        {
          "output_type": "execute_result",
          "data": {
            "text/plain": [
              "region\n",
              "northeast    48.07\n",
              "northwest    42.94\n",
              "southeast    53.13\n",
              "southwest    47.60\n",
              "Name: bmi, dtype: float64"
            ]
          },
          "metadata": {
            "tags": []
          },
          "execution_count": 3
        }
      ]
    },
    {
      "cell_type": "markdown",
      "metadata": {
        "id": "c587ae2c-6e49-4ab5-a397-a31979d835ee"
      },
      "source": [
        "Y, si queremos saber la media de bmi para cada región, tecleamos:"
      ],
      "id": "c587ae2c-6e49-4ab5-a397-a31979d835ee"
    },
    {
      "cell_type": "code",
      "metadata": {
        "colab": {
          "base_uri": "https://localhost:8080/"
        },
        "id": "f9a4728a-237b-4ab6-8462-c6682f2cf8e8",
        "outputId": "791c09f7-fd58-466c-f08e-0ed9ceae946c"
      },
      "source": [
        "data_frame.groupby('region')['bmi'].mean()"
      ],
      "id": "f9a4728a-237b-4ab6-8462-c6682f2cf8e8",
      "execution_count": 4,
      "outputs": [
        {
          "output_type": "execute_result",
          "data": {
            "text/plain": [
              "region\n",
              "northeast    29.173503\n",
              "northwest    29.199785\n",
              "southeast    33.355989\n",
              "southwest    30.596615\n",
              "Name: bmi, dtype: float64"
            ]
          },
          "metadata": {
            "tags": []
          },
          "execution_count": 4
        }
      ]
    },
    {
      "cell_type": "markdown",
      "metadata": {
        "id": "cac1846a-5522-4d2b-8c7c-dbebfdaa13b3"
      },
      "source": [
        "Aquí, vemos que la media de valores de bmi más elevada la encontramos en la región  southeast y la más baja en la northeast.  \n",
        "\n",
        "Tenemos la opción de generar la lista de estas medias de manera ordenada. Lo podemos  hacer con la función sorted(). El código sería este: "
      ],
      "id": "cac1846a-5522-4d2b-8c7c-dbebfdaa13b3"
    },
    {
      "cell_type": "code",
      "metadata": {
        "colab": {
          "base_uri": "https://localhost:8080/"
        },
        "id": "2af731e6-8715-4115-a008-494391c2295b",
        "outputId": "66b5ac32-27d1-4dc0-cb0c-d26fe7669b49"
      },
      "source": [
        "sorted(data_frame.groupby('region')['bmi'].mean())"
      ],
      "id": "2af731e6-8715-4115-a008-494391c2295b",
      "execution_count": 5,
      "outputs": [
        {
          "output_type": "execute_result",
          "data": {
            "text/plain": [
              "[29.17350308641976, 29.199784615384626, 30.59661538461538, 33.35598901098903]"
            ]
          },
          "metadata": {
            "tags": []
          },
          "execution_count": 5
        }
      ]
    },
    {
      "cell_type": "markdown",
      "metadata": {
        "id": "3bf90ea4-0274-4d34-8d82-a3410ea0b0d9"
      },
      "source": [
        "La lista que obtendríamos sería: \n",
        "\n",
        "[29.17350308641976, 29.199784615384626, 30.59661538461538,33.35598901098903] \n",
        "\n",
        "Ahora, haremos una agrupación más compleja. Mostraremos las medias de los precios de las  pólizas agrupadas, en un primer nivel, por la región y, en un segundo nivel, por la variable  smoker. Este es el código:"
      ],
      "id": "3bf90ea4-0274-4d34-8d82-a3410ea0b0d9"
    },
    {
      "cell_type": "code",
      "metadata": {
        "colab": {
          "base_uri": "https://localhost:8080/"
        },
        "id": "b45f40a1-8c38-4bca-b0fc-0fefec96fd1a",
        "outputId": "dfdd7dbe-adf8-4864-a71a-5708595db62c"
      },
      "source": [
        "data_frame.groupby(['region', 'smoker'])['charges'].mean()"
      ],
      "id": "b45f40a1-8c38-4bca-b0fc-0fefec96fd1a",
      "execution_count": 6,
      "outputs": [
        {
          "output_type": "execute_result",
          "data": {
            "text/plain": [
              "region     smoker\n",
              "northeast  no         9165.531672\n",
              "           yes       29673.536473\n",
              "northwest  no         8556.463715\n",
              "           yes       30192.003182\n",
              "southeast  no         8032.216309\n",
              "           yes       34844.996824\n",
              "southwest  no         8019.284513\n",
              "           yes       32269.063494\n",
              "Name: charges, dtype: float64"
            ]
          },
          "metadata": {
            "tags": []
          },
          "execution_count": 6
        }
      ]
    },
    {
      "cell_type": "markdown",
      "metadata": {
        "id": "41b380f6-fae8-4185-ac69-2ee181a3ce73"
      },
      "source": [
        "Vemos claramente que, independientemente de la región, la media de precios siempre es  más alta, si la persona es fumadora, que cuando no lo es. \n",
        "\n",
        "Si ahora mantenemos la agrupación de la región, pero cambiamos la variable smoker por sex en el segundo nivel de la agrupación, necesitamos solo hacer este pequeño cambio:"
      ],
      "id": "41b380f6-fae8-4185-ac69-2ee181a3ce73"
    },
    {
      "cell_type": "code",
      "metadata": {
        "colab": {
          "base_uri": "https://localhost:8080/"
        },
        "id": "06cd9d7a-823a-41bc-b0ef-c05ea045690d",
        "outputId": "150cf09d-9c0d-4ff5-e09e-e55037236467"
      },
      "source": [
        "data_frame.groupby(['region', 'sex'])['charges'].mean()"
      ],
      "id": "06cd9d7a-823a-41bc-b0ef-c05ea045690d",
      "execution_count": 7,
      "outputs": [
        {
          "output_type": "execute_result",
          "data": {
            "text/plain": [
              "region     sex   \n",
              "northeast  female    12953.203151\n",
              "           male      13854.005374\n",
              "northwest  female    12479.870397\n",
              "           male      12354.119575\n",
              "southeast  female    13499.669243\n",
              "           male      15879.617173\n",
              "southwest  female    11274.411264\n",
              "           male      13412.883576\n",
              "Name: charges, dtype: float64"
            ]
          },
          "metadata": {
            "tags": []
          },
          "execution_count": 7
        }
      ]
    },
    {
      "cell_type": "markdown",
      "metadata": {
        "id": "c71ae7b1-6ef0-47df-9bd0-6d4ea89d2829"
      },
      "source": [
        "Vemos que, en todas las regiones, excepto en southwest, la media de precios es más alta  para los hombres que para las mujeres.  \n",
        "Si asignamos esta agrupación a una nueva variable y aplicamos la función plot.bar(),  obtendremos una gráfica de barras coherente con la agrupación:"
      ],
      "id": "c71ae7b1-6ef0-47df-9bd0-6d4ea89d2829"
    },
    {
      "cell_type": "code",
      "metadata": {
        "colab": {
          "base_uri": "https://localhost:8080/",
          "height": 338
        },
        "id": "1bfc95f7-967c-43aa-8009-720562f4d228",
        "outputId": "80718a8d-92c5-422a-d49c-895752eaa39c"
      },
      "source": [
        "group = data_frame.groupby(['region', 'sex'])['charges'].mean() \n",
        "group.unstack(fill_value=0).plot.bar()"
      ],
      "id": "1bfc95f7-967c-43aa-8009-720562f4d228",
      "execution_count": 8,
      "outputs": [
        {
          "output_type": "execute_result",
          "data": {
            "text/plain": [
              "<matplotlib.axes._subplots.AxesSubplot at 0x7fa84fbb5390>"
            ]
          },
          "metadata": {
            "tags": []
          },
          "execution_count": 8
        },
        {
          "output_type": "display_data",
          "data": {
            "image/png": "[encoded data removed]",
            "text/plain": [
              "<Figure size 432x288 with 1 Axes>"
            ]
          },
          "metadata": {
            "tags": [],
            "needs_background": "light"
          }
        }
      ]
    },
    {
      "cell_type": "markdown",
      "metadata": {
        "id": "229e581b-e8f9-4182-9d26-7013406b495c"
      },
      "source": [
        "El gráfico muestra, de una manera mucho más visual, lo que la tabla de arriba nos decía.  \n",
        "Si, dada la base de datos data_frame, queremos mostrarla de manera ordenada según los  valores de una variable determinada, solo tenemos que usar la función sort_values(). Lo  haremos así:"
      ],
      "id": "229e581b-e8f9-4182-9d26-7013406b495c"
    },
    {
      "cell_type": "code",
      "metadata": {
        "colab": {
          "base_uri": "https://localhost:8080/",
          "height": 419
        },
        "id": "3486f95f-b3d5-4693-97e1-7bb5782fd8ba",
        "outputId": "b0a43998-0a7b-468c-f5c5-b52d4f6b802d"
      },
      "source": [
        "data_frame.sort_values(['age','bmi'])"
      ],
      "id": "3486f95f-b3d5-4693-97e1-7bb5782fd8ba",
      "execution_count": 9,
      "outputs": [
        {
          "output_type": "execute_result",
          "data": {
            "text/html": [
              "<div>\n",
              "<style scoped>\n",
              "    .dataframe tbody tr th:only-of-type {\n",
              "        vertical-align: middle;\n",
              "    }\n",
              "\n",
              "    .dataframe tbody tr th {\n",
              "        vertical-align: top;\n",
              "    }\n",
              "\n",
              "    .dataframe thead th {\n",
              "        text-align: right;\n",
              "    }\n",
              "</style>\n",
              "<table border=\"1\" class=\"dataframe\">\n",
              "  <thead>\n",
              "    <tr style=\"text-align: right;\">\n",
              "      <th></th>\n",
              "      <th>age</th>\n",
              "      <th>sex</th>\n",
              "      <th>bmi</th>\n",
              "      <th>children</th>\n",
              "      <th>smoker</th>\n",
              "      <th>region</th>\n",
              "      <th>charges</th>\n",
              "    </tr>\n",
              "  </thead>\n",
              "  <tbody>\n",
              "    <tr>\n",
              "      <th>172</th>\n",
              "      <td>18</td>\n",
              "      <td>male</td>\n",
              "      <td>15.960</td>\n",
              "      <td>0</td>\n",
              "      <td>no</td>\n",
              "      <td>northeast</td>\n",
              "      <td>1694.79640</td>\n",
              "    </tr>\n",
              "    <tr>\n",
              "      <th>250</th>\n",
              "      <td>18</td>\n",
              "      <td>male</td>\n",
              "      <td>17.290</td>\n",
              "      <td>2</td>\n",
              "      <td>yes</td>\n",
              "      <td>northeast</td>\n",
              "      <td>12829.45510</td>\n",
              "    </tr>\n",
              "    <tr>\n",
              "      <th>359</th>\n",
              "      <td>18</td>\n",
              "      <td>female</td>\n",
              "      <td>20.790</td>\n",
              "      <td>0</td>\n",
              "      <td>no</td>\n",
              "      <td>southeast</td>\n",
              "      <td>1607.51010</td>\n",
              "    </tr>\n",
              "    <tr>\n",
              "      <th>1212</th>\n",
              "      <td>18</td>\n",
              "      <td>male</td>\n",
              "      <td>21.470</td>\n",
              "      <td>0</td>\n",
              "      <td>no</td>\n",
              "      <td>northeast</td>\n",
              "      <td>1702.45530</td>\n",
              "    </tr>\n",
              "    <tr>\n",
              "      <th>1033</th>\n",
              "      <td>18</td>\n",
              "      <td>male</td>\n",
              "      <td>21.565</td>\n",
              "      <td>0</td>\n",
              "      <td>yes</td>\n",
              "      <td>northeast</td>\n",
              "      <td>13747.87235</td>\n",
              "    </tr>\n",
              "    <tr>\n",
              "      <th>...</th>\n",
              "      <td>...</td>\n",
              "      <td>...</td>\n",
              "      <td>...</td>\n",
              "      <td>...</td>\n",
              "      <td>...</td>\n",
              "      <td>...</td>\n",
              "      <td>...</td>\n",
              "    </tr>\n",
              "    <tr>\n",
              "      <th>603</th>\n",
              "      <td>64</td>\n",
              "      <td>female</td>\n",
              "      <td>39.050</td>\n",
              "      <td>3</td>\n",
              "      <td>no</td>\n",
              "      <td>southeast</td>\n",
              "      <td>16085.12750</td>\n",
              "    </tr>\n",
              "    <tr>\n",
              "      <th>418</th>\n",
              "      <td>64</td>\n",
              "      <td>male</td>\n",
              "      <td>39.160</td>\n",
              "      <td>1</td>\n",
              "      <td>no</td>\n",
              "      <td>southeast</td>\n",
              "      <td>14418.28040</td>\n",
              "    </tr>\n",
              "    <tr>\n",
              "      <th>199</th>\n",
              "      <td>64</td>\n",
              "      <td>female</td>\n",
              "      <td>39.330</td>\n",
              "      <td>0</td>\n",
              "      <td>no</td>\n",
              "      <td>northeast</td>\n",
              "      <td>14901.51670</td>\n",
              "    </tr>\n",
              "    <tr>\n",
              "      <th>768</th>\n",
              "      <td>64</td>\n",
              "      <td>female</td>\n",
              "      <td>39.700</td>\n",
              "      <td>0</td>\n",
              "      <td>no</td>\n",
              "      <td>southwest</td>\n",
              "      <td>14319.03100</td>\n",
              "    </tr>\n",
              "    <tr>\n",
              "      <th>534</th>\n",
              "      <td>64</td>\n",
              "      <td>male</td>\n",
              "      <td>40.480</td>\n",
              "      <td>0</td>\n",
              "      <td>no</td>\n",
              "      <td>southeast</td>\n",
              "      <td>13831.11520</td>\n",
              "    </tr>\n",
              "  </tbody>\n",
              "</table>\n",
              "<p>1338 rows × 7 columns</p>\n",
              "</div>"
            ],
            "text/plain": [
              "      age     sex     bmi  children smoker     region      charges\n",
              "172    18    male  15.960         0     no  northeast   1694.79640\n",
              "250    18    male  17.290         2    yes  northeast  12829.45510\n",
              "359    18  female  20.790         0     no  southeast   1607.51010\n",
              "1212   18    male  21.470         0     no  northeast   1702.45530\n",
              "1033   18    male  21.565         0    yes  northeast  13747.87235\n",
              "...   ...     ...     ...       ...    ...        ...          ...\n",
              "603    64  female  39.050         3     no  southeast  16085.12750\n",
              "418    64    male  39.160         1     no  southeast  14418.28040\n",
              "199    64  female  39.330         0     no  northeast  14901.51670\n",
              "768    64  female  39.700         0     no  southwest  14319.03100\n",
              "534    64    male  40.480         0     no  southeast  13831.11520\n",
              "\n",
              "[1338 rows x 7 columns]"
            ]
          },
          "metadata": {
            "tags": []
          },
          "execution_count": 9
        }
      ]
    },
    {
      "cell_type": "markdown",
      "metadata": {
        "id": "c7af59a4-97e5-4347-af24-1fdf8a18a39d"
      },
      "source": [
        "Si queremos mostrar solo los primeros 12 registros de este orden, tendremos que aplicar la  función head() y especificar el número de registros que queremos mostrar:"
      ],
      "id": "c7af59a4-97e5-4347-af24-1fdf8a18a39d"
    },
    {
      "cell_type": "code",
      "metadata": {
        "colab": {
          "base_uri": "https://localhost:8080/",
          "height": 421
        },
        "id": "3357e536-ad6e-429e-a104-b48cf5e994e6",
        "outputId": "ea91c606-a8a1-4267-d6de-3817de8e44c9"
      },
      "source": [
        "data_frame.sort_values(['age','bmi']).head(12)"
      ],
      "id": "3357e536-ad6e-429e-a104-b48cf5e994e6",
      "execution_count": 10,
      "outputs": [
        {
          "output_type": "execute_result",
          "data": {
            "text/html": [
              "<div>\n",
              "<style scoped>\n",
              "    .dataframe tbody tr th:only-of-type {\n",
              "        vertical-align: middle;\n",
              "    }\n",
              "\n",
              "    .dataframe tbody tr th {\n",
              "        vertical-align: top;\n",
              "    }\n",
              "\n",
              "    .dataframe thead th {\n",
              "        text-align: right;\n",
              "    }\n",
              "</style>\n",
              "<table border=\"1\" class=\"dataframe\">\n",
              "  <thead>\n",
              "    <tr style=\"text-align: right;\">\n",
              "      <th></th>\n",
              "      <th>age</th>\n",
              "      <th>sex</th>\n",
              "      <th>bmi</th>\n",
              "      <th>children</th>\n",
              "      <th>smoker</th>\n",
              "      <th>region</th>\n",
              "      <th>charges</th>\n",
              "    </tr>\n",
              "  </thead>\n",
              "  <tbody>\n",
              "    <tr>\n",
              "      <th>172</th>\n",
              "      <td>18</td>\n",
              "      <td>male</td>\n",
              "      <td>15.960</td>\n",
              "      <td>0</td>\n",
              "      <td>no</td>\n",
              "      <td>northeast</td>\n",
              "      <td>1694.79640</td>\n",
              "    </tr>\n",
              "    <tr>\n",
              "      <th>250</th>\n",
              "      <td>18</td>\n",
              "      <td>male</td>\n",
              "      <td>17.290</td>\n",
              "      <td>2</td>\n",
              "      <td>yes</td>\n",
              "      <td>northeast</td>\n",
              "      <td>12829.45510</td>\n",
              "    </tr>\n",
              "    <tr>\n",
              "      <th>359</th>\n",
              "      <td>18</td>\n",
              "      <td>female</td>\n",
              "      <td>20.790</td>\n",
              "      <td>0</td>\n",
              "      <td>no</td>\n",
              "      <td>southeast</td>\n",
              "      <td>1607.51010</td>\n",
              "    </tr>\n",
              "    <tr>\n",
              "      <th>1212</th>\n",
              "      <td>18</td>\n",
              "      <td>male</td>\n",
              "      <td>21.470</td>\n",
              "      <td>0</td>\n",
              "      <td>no</td>\n",
              "      <td>northeast</td>\n",
              "      <td>1702.45530</td>\n",
              "    </tr>\n",
              "    <tr>\n",
              "      <th>1033</th>\n",
              "      <td>18</td>\n",
              "      <td>male</td>\n",
              "      <td>21.565</td>\n",
              "      <td>0</td>\n",
              "      <td>yes</td>\n",
              "      <td>northeast</td>\n",
              "      <td>13747.87235</td>\n",
              "    </tr>\n",
              "    <tr>\n",
              "      <th>1282</th>\n",
              "      <td>18</td>\n",
              "      <td>female</td>\n",
              "      <td>21.660</td>\n",
              "      <td>0</td>\n",
              "      <td>yes</td>\n",
              "      <td>northeast</td>\n",
              "      <td>14283.45940</td>\n",
              "    </tr>\n",
              "    <tr>\n",
              "      <th>1080</th>\n",
              "      <td>18</td>\n",
              "      <td>male</td>\n",
              "      <td>21.780</td>\n",
              "      <td>2</td>\n",
              "      <td>no</td>\n",
              "      <td>southeast</td>\n",
              "      <td>11884.04858</td>\n",
              "    </tr>\n",
              "    <tr>\n",
              "      <th>295</th>\n",
              "      <td>18</td>\n",
              "      <td>male</td>\n",
              "      <td>22.990</td>\n",
              "      <td>0</td>\n",
              "      <td>no</td>\n",
              "      <td>northeast</td>\n",
              "      <td>1704.56810</td>\n",
              "    </tr>\n",
              "    <tr>\n",
              "      <th>1041</th>\n",
              "      <td>18</td>\n",
              "      <td>male</td>\n",
              "      <td>23.085</td>\n",
              "      <td>0</td>\n",
              "      <td>no</td>\n",
              "      <td>northeast</td>\n",
              "      <td>1704.70015</td>\n",
              "    </tr>\n",
              "    <tr>\n",
              "      <th>940</th>\n",
              "      <td>18</td>\n",
              "      <td>male</td>\n",
              "      <td>23.210</td>\n",
              "      <td>0</td>\n",
              "      <td>no</td>\n",
              "      <td>southeast</td>\n",
              "      <td>1121.87390</td>\n",
              "    </tr>\n",
              "    <tr>\n",
              "      <th>1023</th>\n",
              "      <td>18</td>\n",
              "      <td>male</td>\n",
              "      <td>23.320</td>\n",
              "      <td>1</td>\n",
              "      <td>no</td>\n",
              "      <td>southeast</td>\n",
              "      <td>1711.02680</td>\n",
              "    </tr>\n",
              "    <tr>\n",
              "      <th>121</th>\n",
              "      <td>18</td>\n",
              "      <td>male</td>\n",
              "      <td>23.750</td>\n",
              "      <td>0</td>\n",
              "      <td>no</td>\n",
              "      <td>northeast</td>\n",
              "      <td>1705.62450</td>\n",
              "    </tr>\n",
              "  </tbody>\n",
              "</table>\n",
              "</div>"
            ],
            "text/plain": [
              "      age     sex     bmi  children smoker     region      charges\n",
              "172    18    male  15.960         0     no  northeast   1694.79640\n",
              "250    18    male  17.290         2    yes  northeast  12829.45510\n",
              "359    18  female  20.790         0     no  southeast   1607.51010\n",
              "1212   18    male  21.470         0     no  northeast   1702.45530\n",
              "1033   18    male  21.565         0    yes  northeast  13747.87235\n",
              "1282   18  female  21.660         0    yes  northeast  14283.45940\n",
              "1080   18    male  21.780         2     no  southeast  11884.04858\n",
              "295    18    male  22.990         0     no  northeast   1704.56810\n",
              "1041   18    male  23.085         0     no  northeast   1704.70015\n",
              "940    18    male  23.210         0     no  southeast   1121.87390\n",
              "1023   18    male  23.320         1     no  southeast   1711.02680\n",
              "121    18    male  23.750         0     no  northeast   1705.62450"
            ]
          },
          "metadata": {
            "tags": []
          },
          "execution_count": 10
        }
      ]
    },
    {
      "cell_type": "markdown",
      "metadata": {
        "id": "72a69c59-5daa-4b6e-877e-4fbc41ff8fc5"
      },
      "source": [
        "El primer criterio para ordenar las filas corresponde al valor de la edad (age) y el segundo corresponde a bmi. \n",
        "\n",
        "El código, primero, ordena por edades y, en el caso de que haya filas con la misma edad, el código aplica un segundo criterio, el bmi. Por defecto, el orden se aplica siempre de manera  ascendente, es decir, de valor más pequeño a más grande. Si esto lo queremos invertir,  tendremos que añadir otro parámetro de este modo:  "
      ],
      "id": "72a69c59-5daa-4b6e-877e-4fbc41ff8fc5"
    },
    {
      "cell_type": "code",
      "metadata": {
        "colab": {
          "base_uri": "https://localhost:8080/",
          "height": 421
        },
        "id": "35c3d314-6914-4b44-9375-ce0ee72f1f26",
        "outputId": "45bc2358-e207-43c5-bf2d-080d5cb53e02"
      },
      "source": [
        "data_frame.sort_values(['age','bmi'], ascending=[False, False]).head(12)"
      ],
      "id": "35c3d314-6914-4b44-9375-ce0ee72f1f26",
      "execution_count": 11,
      "outputs": [
        {
          "output_type": "execute_result",
          "data": {
            "text/html": [
              "<div>\n",
              "<style scoped>\n",
              "    .dataframe tbody tr th:only-of-type {\n",
              "        vertical-align: middle;\n",
              "    }\n",
              "\n",
              "    .dataframe tbody tr th {\n",
              "        vertical-align: top;\n",
              "    }\n",
              "\n",
              "    .dataframe thead th {\n",
              "        text-align: right;\n",
              "    }\n",
              "</style>\n",
              "<table border=\"1\" class=\"dataframe\">\n",
              "  <thead>\n",
              "    <tr style=\"text-align: right;\">\n",
              "      <th></th>\n",
              "      <th>age</th>\n",
              "      <th>sex</th>\n",
              "      <th>bmi</th>\n",
              "      <th>children</th>\n",
              "      <th>smoker</th>\n",
              "      <th>region</th>\n",
              "      <th>charges</th>\n",
              "    </tr>\n",
              "  </thead>\n",
              "  <tbody>\n",
              "    <tr>\n",
              "      <th>534</th>\n",
              "      <td>64</td>\n",
              "      <td>male</td>\n",
              "      <td>40.480</td>\n",
              "      <td>0</td>\n",
              "      <td>no</td>\n",
              "      <td>southeast</td>\n",
              "      <td>13831.11520</td>\n",
              "    </tr>\n",
              "    <tr>\n",
              "      <th>768</th>\n",
              "      <td>64</td>\n",
              "      <td>female</td>\n",
              "      <td>39.700</td>\n",
              "      <td>0</td>\n",
              "      <td>no</td>\n",
              "      <td>southwest</td>\n",
              "      <td>14319.03100</td>\n",
              "    </tr>\n",
              "    <tr>\n",
              "      <th>199</th>\n",
              "      <td>64</td>\n",
              "      <td>female</td>\n",
              "      <td>39.330</td>\n",
              "      <td>0</td>\n",
              "      <td>no</td>\n",
              "      <td>northeast</td>\n",
              "      <td>14901.51670</td>\n",
              "    </tr>\n",
              "    <tr>\n",
              "      <th>418</th>\n",
              "      <td>64</td>\n",
              "      <td>male</td>\n",
              "      <td>39.160</td>\n",
              "      <td>1</td>\n",
              "      <td>no</td>\n",
              "      <td>southeast</td>\n",
              "      <td>14418.28040</td>\n",
              "    </tr>\n",
              "    <tr>\n",
              "      <th>603</th>\n",
              "      <td>64</td>\n",
              "      <td>female</td>\n",
              "      <td>39.050</td>\n",
              "      <td>3</td>\n",
              "      <td>no</td>\n",
              "      <td>southeast</td>\n",
              "      <td>16085.12750</td>\n",
              "    </tr>\n",
              "    <tr>\n",
              "      <th>635</th>\n",
              "      <td>64</td>\n",
              "      <td>male</td>\n",
              "      <td>38.190</td>\n",
              "      <td>0</td>\n",
              "      <td>no</td>\n",
              "      <td>northeast</td>\n",
              "      <td>14410.93210</td>\n",
              "    </tr>\n",
              "    <tr>\n",
              "      <th>752</th>\n",
              "      <td>64</td>\n",
              "      <td>male</td>\n",
              "      <td>37.905</td>\n",
              "      <td>0</td>\n",
              "      <td>no</td>\n",
              "      <td>northwest</td>\n",
              "      <td>14210.53595</td>\n",
              "    </tr>\n",
              "    <tr>\n",
              "      <th>1241</th>\n",
              "      <td>64</td>\n",
              "      <td>male</td>\n",
              "      <td>36.960</td>\n",
              "      <td>2</td>\n",
              "      <td>yes</td>\n",
              "      <td>southeast</td>\n",
              "      <td>49577.66240</td>\n",
              "    </tr>\n",
              "    <tr>\n",
              "      <th>801</th>\n",
              "      <td>64</td>\n",
              "      <td>female</td>\n",
              "      <td>35.970</td>\n",
              "      <td>0</td>\n",
              "      <td>no</td>\n",
              "      <td>southeast</td>\n",
              "      <td>14313.84630</td>\n",
              "    </tr>\n",
              "    <tr>\n",
              "      <th>335</th>\n",
              "      <td>64</td>\n",
              "      <td>male</td>\n",
              "      <td>34.500</td>\n",
              "      <td>0</td>\n",
              "      <td>no</td>\n",
              "      <td>southwest</td>\n",
              "      <td>13822.80300</td>\n",
              "    </tr>\n",
              "    <tr>\n",
              "      <th>420</th>\n",
              "      <td>64</td>\n",
              "      <td>male</td>\n",
              "      <td>33.880</td>\n",
              "      <td>0</td>\n",
              "      <td>yes</td>\n",
              "      <td>southeast</td>\n",
              "      <td>46889.26120</td>\n",
              "    </tr>\n",
              "    <tr>\n",
              "      <th>328</th>\n",
              "      <td>64</td>\n",
              "      <td>female</td>\n",
              "      <td>33.800</td>\n",
              "      <td>1</td>\n",
              "      <td>yes</td>\n",
              "      <td>southwest</td>\n",
              "      <td>47928.03000</td>\n",
              "    </tr>\n",
              "  </tbody>\n",
              "</table>\n",
              "</div>"
            ],
            "text/plain": [
              "      age     sex     bmi  children smoker     region      charges\n",
              "534    64    male  40.480         0     no  southeast  13831.11520\n",
              "768    64  female  39.700         0     no  southwest  14319.03100\n",
              "199    64  female  39.330         0     no  northeast  14901.51670\n",
              "418    64    male  39.160         1     no  southeast  14418.28040\n",
              "603    64  female  39.050         3     no  southeast  16085.12750\n",
              "635    64    male  38.190         0     no  northeast  14410.93210\n",
              "752    64    male  37.905         0     no  northwest  14210.53595\n",
              "1241   64    male  36.960         2    yes  southeast  49577.66240\n",
              "801    64  female  35.970         0     no  southeast  14313.84630\n",
              "335    64    male  34.500         0     no  southwest  13822.80300\n",
              "420    64    male  33.880         0    yes  southeast  46889.26120\n",
              "328    64  female  33.800         1    yes  southwest  47928.03000"
            ]
          },
          "metadata": {
            "tags": []
          },
          "execution_count": 11
        }
      ]
    },
    {
      "cell_type": "markdown",
      "metadata": {
        "id": "88b86045-88d1-411f-bd21-90bbe1fd44ed"
      },
      "source": [
        "El parámetro ascendiendo, por defecto, alcanza el valor True y es por eso que las tablas siempre muestran un orden ascendente. \n",
        "\n",
        "Si especificamos  que el ascending tiene que tener un valor False, obtendremos una tabla con orden descendente, como esta última que hemos obtenido.\n",
        "\n",
        "Hasta ahora, hemos supuesto que todas las celdas de una tabla tenían valores. \n",
        "\n",
        "La realidad, en cambio, siempre es diferente y esta nos presentará, a menudo, tablas que tienen celdas sin valores. Estos valores se denominan Nas.\n",
        "\n",
        "Una de las funciones más utilizadas del paquete Pandas, para ver si tenemos Nas o no, es la  función isna(). Esta función devuelve, como resultado, False, cuando el valor existe y  devuelve True, cuando el valor es Na. Por ejemplo, si queremos saber si entre los registros  230 y 238 de la columna smoker hay Nas o no, necesitamos escribir este código: "
      ],
      "id": "88b86045-88d1-411f-bd21-90bbe1fd44ed"
    },
    {
      "cell_type": "code",
      "metadata": {
        "colab": {
          "base_uri": "https://localhost:8080/"
        },
        "id": "80eac6f2-8071-4bec-8487-ec1e98b34323",
        "outputId": "ace0471d-a3ff-4a8e-9e08-c2e14897c4bc"
      },
      "source": [
        "data_frame['smoker'][230:239].isna()"
      ],
      "id": "80eac6f2-8071-4bec-8487-ec1e98b34323",
      "execution_count": 12,
      "outputs": [
        {
          "output_type": "execute_result",
          "data": {
            "text/plain": [
              "230    False\n",
              "231    False\n",
              "232    False\n",
              "233    False\n",
              "234    False\n",
              "235    False\n",
              "236    False\n",
              "237    False\n",
              "238    False\n",
              "Name: smoker, dtype: bool"
            ]
          },
          "metadata": {
            "tags": []
          },
          "execution_count": 12
        }
      ]
    },
    {
      "cell_type": "markdown",
      "metadata": {
        "id": "05b281ab-82a4-4e07-a834-e82aaa063990"
      },
      "source": [
        "Observando los resultados, podemos concluir que, en este intervalo de valores, no tenemos  ningún Na, ya que todos los valores que devuelve la función isna() son False.\n",
        "\n",
        "Vamos, ahora, a copiar la base de datos data_frame en una nueva variable: "
      ],
      "id": "05b281ab-82a4-4e07-a834-e82aaa063990"
    },
    {
      "cell_type": "code",
      "metadata": {
        "id": "1a1ff120-5c89-488b-b9bd-d8dceba1b9f7"
      },
      "source": [
        "data_frame2 = data_frame[:]"
      ],
      "id": "1a1ff120-5c89-488b-b9bd-d8dceba1b9f7",
      "execution_count": 13,
      "outputs": []
    },
    {
      "cell_type": "markdown",
      "metadata": {
        "id": "8dd8e030-6c5e-4f0d-aa9e-6866b09281b1"
      },
      "source": [
        "Importante: data_frame2 y data_frame no son el mismo objeto. No hemos apuntado  realmente data_frame en la nueva variable, puesto que hemos usado una copia con el  operador [:]."
      ],
      "id": "8dd8e030-6c5e-4f0d-aa9e-6866b09281b1"
    },
    {
      "cell_type": "code",
      "metadata": {
        "colab": {
          "base_uri": "https://localhost:8080/"
        },
        "id": "f1513766-eb74-499a-ad79-792f2aab5004",
        "outputId": "3304295a-17a4-4146-ef89-a6e0e75b579b"
      },
      "source": [
        "data_frame2['smoker'][230] = None"
      ],
      "id": "f1513766-eb74-499a-ad79-792f2aab5004",
      "execution_count": 14,
      "outputs": [
        {
          "output_type": "stream",
          "text": [
            "/usr/local/lib/python3.7/dist-packages/ipykernel_launcher.py:1: SettingWithCopyWarning: \n",
            "A value is trying to be set on a copy of a slice from a DataFrame\n",
            "\n",
            "See the caveats in the documentation: https://pandas.pydata.org/pandas-docs/stable/user_guide/indexing.html#returning-a-view-versus-a-copy\n",
            "  \"\"\"Entry point for launching an IPython kernel.\n",
            "/usr/local/lib/python3.7/dist-packages/IPython/core/interactiveshell.py:2882: SettingWithCopyWarning: \n",
            "A value is trying to be set on a copy of a slice from a DataFrame\n",
            "\n",
            "See the caveats in the documentation: https://pandas.pydata.org/pandas-docs/stable/user_guide/indexing.html#returning-a-view-versus-a-copy\n",
            "  exec(code_obj, self.user_global_ns, self.user_ns)\n"
          ],
          "name": "stderr"
        }
      ]
    },
    {
      "cell_type": "code",
      "metadata": {
        "colab": {
          "base_uri": "https://localhost:8080/"
        },
        "id": "c7dd6a97-8c91-460e-bd64-076fd1b68232",
        "outputId": "3616dc7f-c441-436d-b42c-39978bfb3032"
      },
      "source": [
        "data_frame2['smoker'][230:239].isna()"
      ],
      "id": "c7dd6a97-8c91-460e-bd64-076fd1b68232",
      "execution_count": 15,
      "outputs": [
        {
          "output_type": "execute_result",
          "data": {
            "text/plain": [
              "230     True\n",
              "231    False\n",
              "232    False\n",
              "233    False\n",
              "234    False\n",
              "235    False\n",
              "236    False\n",
              "237    False\n",
              "238    False\n",
              "Name: smoker, dtype: bool"
            ]
          },
          "metadata": {
            "tags": []
          },
          "execution_count": 15
        }
      ]
    },
    {
      "cell_type": "markdown",
      "metadata": {
        "id": "aecb444b-295b-45d7-9820-a64a6bf356da"
      },
      "source": [
        "La tabla que obtenemos ahora sí que tiene un Na, según indica la función isna():\n",
        "    \n",
        "La función notna() funciona justo al contrario. Allá donde hay un Na, devuelve un False y,  donde no hay, devuelve un True. ¿Lo vemos?"
      ],
      "id": "aecb444b-295b-45d7-9820-a64a6bf356da"
    },
    {
      "cell_type": "code",
      "metadata": {
        "colab": {
          "base_uri": "https://localhost:8080/"
        },
        "id": "95047676-e71c-4457-a965-26019ab2c6ec",
        "outputId": "3b9b8bf4-fa24-461e-d3d5-b8c3288f915f"
      },
      "source": [
        "data_frame2['smoker'][230:239].notna()"
      ],
      "id": "95047676-e71c-4457-a965-26019ab2c6ec",
      "execution_count": 16,
      "outputs": [
        {
          "output_type": "execute_result",
          "data": {
            "text/plain": [
              "230    False\n",
              "231     True\n",
              "232     True\n",
              "233     True\n",
              "234     True\n",
              "235     True\n",
              "236     True\n",
              "237     True\n",
              "238     True\n",
              "Name: smoker, dtype: bool"
            ]
          },
          "metadata": {
            "tags": []
          },
          "execution_count": 16
        }
      ]
    }
  ]
}