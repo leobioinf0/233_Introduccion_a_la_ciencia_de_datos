{
  "nbformat": 4,
  "nbformat_minor": 5,
  "metadata": {
    "kernelspec": {
      "display_name": "Python 3",
      "language": "python",
      "name": "python3"
    },
    "language_info": {
      "codemirror_mode": {
        "name": "ipython",
        "version": 3
      },
      "file_extension": ".py",
      "mimetype": "text/x-python",
      "name": "python",
      "nbconvert_exporter": "python",
      "pygments_lexer": "ipython3",
      "version": "3.8.8"
    },
    "colab": {
      "name": "2_7_EJEMPLO_DE_UN_MODELO_DE_CLASIFICACION.ipynb",
      "provenance": [],
      "collapsed_sections": [],
      "include_colab_link": true
    }
  },
  "cells": [
    {
      "cell_type": "markdown",
      "metadata": {
        "id": "view-in-github",
        "colab_type": "text"
      },
      "source": [
        "<a href=\"https://colab.research.google.com/github/leobioinf0/233_Introduccion_a_la_ciencia_de_datos/blob/main/2_7_EJEMPLO_DE_UN_MODELO_DE_CLASIFICACION.ipynb\" target=\"_parent\"><img src=\"https://colab.research.google.com/assets/colab-badge.svg\" alt=\"Open In Colab\"/></a>"
      ]
    },
    {
      "cell_type": "markdown",
      "metadata": {
        "id": "6b9a030d-e53c-4861-83eb-3a0dfe862405"
      },
      "source": [
        "# 2.7 EJEMPLO DE UN MODELO DE CLASIFICACIÓN\n",
        "Como vemos, ya tenemos el proyecto creado. Podemos descargarnos la base de datos con la \n",
        "que trabajaremos a través del enlace que encontramos debajo del video. Las primeras líneas \n",
        "de código son:"
      ],
      "id": "6b9a030d-e53c-4861-83eb-3a0dfe862405"
    },
    {
      "cell_type": "code",
      "metadata": {
        "id": "d7d7e087-0930-42fc-90ee-8385b5c76312",
        "colab": {
          "base_uri": "https://localhost:8080/",
          "height": 204
        },
        "outputId": "f9e7546d-2ad5-465e-e013-3ebb7a700e20"
      },
      "source": [
        "import pandas as pd \n",
        "df = pd.read_csv (\"./reviews_sentiment.csv\",sep=';') \n",
        "df.head()"
      ],
      "id": "d7d7e087-0930-42fc-90ee-8385b5c76312",
      "execution_count": null,
      "outputs": [
        {
          "output_type": "execute_result",
          "data": {
            "text/html": [
              "<div>\n",
              "<style scoped>\n",
              "    .dataframe tbody tr th:only-of-type {\n",
              "        vertical-align: middle;\n",
              "    }\n",
              "\n",
              "    .dataframe tbody tr th {\n",
              "        vertical-align: top;\n",
              "    }\n",
              "\n",
              "    .dataframe thead th {\n",
              "        text-align: right;\n",
              "    }\n",
              "</style>\n",
              "<table border=\"1\" class=\"dataframe\">\n",
              "  <thead>\n",
              "    <tr style=\"text-align: right;\">\n",
              "      <th></th>\n",
              "      <th>Review Title</th>\n",
              "      <th>Review Text</th>\n",
              "      <th>wordcount</th>\n",
              "      <th>titleSentiment</th>\n",
              "      <th>textSentiment</th>\n",
              "      <th>Star Rating</th>\n",
              "      <th>sentimentValue</th>\n",
              "    </tr>\n",
              "  </thead>\n",
              "  <tbody>\n",
              "    <tr>\n",
              "      <th>0</th>\n",
              "      <td>Sin conexión</td>\n",
              "      <td>Hola desde hace algo más de un mes me pone sin...</td>\n",
              "      <td>23</td>\n",
              "      <td>negative</td>\n",
              "      <td>negative</td>\n",
              "      <td>1</td>\n",
              "      <td>-0.486389</td>\n",
              "    </tr>\n",
              "    <tr>\n",
              "      <th>1</th>\n",
              "      <td>faltan cosas</td>\n",
              "      <td>Han mejorado la apariencia pero no</td>\n",
              "      <td>20</td>\n",
              "      <td>negative</td>\n",
              "      <td>negative</td>\n",
              "      <td>1</td>\n",
              "      <td>-0.586187</td>\n",
              "    </tr>\n",
              "    <tr>\n",
              "      <th>2</th>\n",
              "      <td>Es muy buena lo recomiendo</td>\n",
              "      <td>Andres e puto amoooo</td>\n",
              "      <td>4</td>\n",
              "      <td>NaN</td>\n",
              "      <td>negative</td>\n",
              "      <td>1</td>\n",
              "      <td>-0.602240</td>\n",
              "    </tr>\n",
              "    <tr>\n",
              "      <th>3</th>\n",
              "      <td>Version antigua</td>\n",
              "      <td>Me gustana mas la version anterior esta es mas...</td>\n",
              "      <td>17</td>\n",
              "      <td>NaN</td>\n",
              "      <td>negative</td>\n",
              "      <td>1</td>\n",
              "      <td>-0.616271</td>\n",
              "    </tr>\n",
              "    <tr>\n",
              "      <th>4</th>\n",
              "      <td>Esta bien</td>\n",
              "      <td>Sin ser la biblia.... Esta bien</td>\n",
              "      <td>6</td>\n",
              "      <td>negative</td>\n",
              "      <td>negative</td>\n",
              "      <td>1</td>\n",
              "      <td>-0.651784</td>\n",
              "    </tr>\n",
              "  </tbody>\n",
              "</table>\n",
              "</div>"
            ],
            "text/plain": [
              "                 Review Title  ... sentimentValue\n",
              "0                Sin conexión  ...      -0.486389\n",
              "1                faltan cosas  ...      -0.586187\n",
              "2  Es muy buena lo recomiendo  ...      -0.602240\n",
              "3             Version antigua  ...      -0.616271\n",
              "4                   Esta bien  ...      -0.651784\n",
              "\n",
              "[5 rows x 7 columns]"
            ]
          },
          "metadata": {
            "tags": []
          },
          "execution_count": 1
        }
      ]
    },
    {
      "cell_type": "markdown",
      "metadata": {
        "id": "414b9dfa-e1f8-44af-b3c6-1fde8b69e966"
      },
      "source": [
        "A  continuación,  podemos  ver  un  primer  resumen  estadístico.  ¿Recuerdas  cuál  era  la  función \n",
        "que podemos usar? Sí, es esta:"
      ],
      "id": "414b9dfa-e1f8-44af-b3c6-1fde8b69e966"
    },
    {
      "cell_type": "code",
      "metadata": {
        "id": "fbe0deb4-87ce-4fc5-9d98-c4354f69b936",
        "colab": {
          "base_uri": "https://localhost:8080/",
          "height": 297
        },
        "outputId": "a353fcec-f80f-46ab-90af-dc4462373641"
      },
      "source": [
        "df.describe() "
      ],
      "id": "fbe0deb4-87ce-4fc5-9d98-c4354f69b936",
      "execution_count": null,
      "outputs": [
        {
          "output_type": "execute_result",
          "data": {
            "text/html": [
              "<div>\n",
              "<style scoped>\n",
              "    .dataframe tbody tr th:only-of-type {\n",
              "        vertical-align: middle;\n",
              "    }\n",
              "\n",
              "    .dataframe tbody tr th {\n",
              "        vertical-align: top;\n",
              "    }\n",
              "\n",
              "    .dataframe thead th {\n",
              "        text-align: right;\n",
              "    }\n",
              "</style>\n",
              "<table border=\"1\" class=\"dataframe\">\n",
              "  <thead>\n",
              "    <tr style=\"text-align: right;\">\n",
              "      <th></th>\n",
              "      <th>wordcount</th>\n",
              "      <th>Star Rating</th>\n",
              "      <th>sentimentValue</th>\n",
              "    </tr>\n",
              "  </thead>\n",
              "  <tbody>\n",
              "    <tr>\n",
              "      <th>count</th>\n",
              "      <td>257.000000</td>\n",
              "      <td>257.000000</td>\n",
              "      <td>257.000000</td>\n",
              "    </tr>\n",
              "    <tr>\n",
              "      <th>mean</th>\n",
              "      <td>11.501946</td>\n",
              "      <td>3.420233</td>\n",
              "      <td>0.383849</td>\n",
              "    </tr>\n",
              "    <tr>\n",
              "      <th>std</th>\n",
              "      <td>13.159812</td>\n",
              "      <td>1.409531</td>\n",
              "      <td>0.897987</td>\n",
              "    </tr>\n",
              "    <tr>\n",
              "      <th>min</th>\n",
              "      <td>1.000000</td>\n",
              "      <td>1.000000</td>\n",
              "      <td>-2.276469</td>\n",
              "    </tr>\n",
              "    <tr>\n",
              "      <th>25%</th>\n",
              "      <td>3.000000</td>\n",
              "      <td>3.000000</td>\n",
              "      <td>-0.108144</td>\n",
              "    </tr>\n",
              "    <tr>\n",
              "      <th>50%</th>\n",
              "      <td>7.000000</td>\n",
              "      <td>3.000000</td>\n",
              "      <td>0.264091</td>\n",
              "    </tr>\n",
              "    <tr>\n",
              "      <th>75%</th>\n",
              "      <td>16.000000</td>\n",
              "      <td>5.000000</td>\n",
              "      <td>0.808384</td>\n",
              "    </tr>\n",
              "    <tr>\n",
              "      <th>max</th>\n",
              "      <td>103.000000</td>\n",
              "      <td>5.000000</td>\n",
              "      <td>3.264579</td>\n",
              "    </tr>\n",
              "  </tbody>\n",
              "</table>\n",
              "</div>"
            ],
            "text/plain": [
              "        wordcount  Star Rating  sentimentValue\n",
              "count  257.000000   257.000000      257.000000\n",
              "mean    11.501946     3.420233        0.383849\n",
              "std     13.159812     1.409531        0.897987\n",
              "min      1.000000     1.000000       -2.276469\n",
              "25%      3.000000     3.000000       -0.108144\n",
              "50%      7.000000     3.000000        0.264091\n",
              "75%     16.000000     5.000000        0.808384\n",
              "max    103.000000     5.000000        3.264579"
            ]
          },
          "metadata": {
            "tags": []
          },
          "execution_count": 2
        }
      ]
    },
    {
      "cell_type": "markdown",
      "metadata": {
        "id": "7ed0c0c8-8b45-4c9d-9c24-1a74f6213570"
      },
      "source": [
        "Aquí vemos, pues, que la categoría mínima de los comentarios es 1 y la máxima es 5. Y que el \n",
        "número de palabras de un comentario es 1 y el máximo es 103. \n",
        "\n",
        "Acerquémonos a estos datos de una manera más visual. Escribamos este código: "
      ],
      "id": "7ed0c0c8-8b45-4c9d-9c24-1a74f6213570"
    },
    {
      "cell_type": "code",
      "metadata": {
        "id": "a8f5db9c-d2f3-41e5-977b-3cdaa6ce0ea3",
        "colab": {
          "base_uri": "https://localhost:8080/",
          "height": 281
        },
        "outputId": "23fdbe50-034f-4893-b367-c7e902ad4955"
      },
      "source": [
        "import matplotlib.pyplot as plt \n",
        "df.hist() \n",
        "plt.show() "
      ],
      "id": "a8f5db9c-d2f3-41e5-977b-3cdaa6ce0ea3",
      "execution_count": null,
      "outputs": [
        {
          "output_type": "display_data",
          "data": {
            "image/png": "[encoded data removed]",
            "text/plain": [
              "<Figure size 432x288 with 4 Axes>"
            ]
          },
          "metadata": {
            "tags": [],
            "needs_background": "light"
          }
        }
      ]
    },
    {
      "cell_type": "markdown",
      "metadata": {
        "id": "9d5a6653-cd37-45b9-93b8-5d8ddf80684c"
      },
      "source": [
        "Pasemos, ahora, a preparar el modelo. Primero, importemos estos dos módulos: "
      ],
      "id": "9d5a6653-cd37-45b9-93b8-5d8ddf80684c"
    },
    {
      "cell_type": "code",
      "metadata": {
        "id": "5a864fe8-809f-4b77-a832-25099561b50f"
      },
      "source": [
        "from sklearn.model_selection import train_test_split \n",
        "from sklearn.preprocessing import MinMaxScaler "
      ],
      "id": "5a864fe8-809f-4b77-a832-25099561b50f",
      "execution_count": null,
      "outputs": []
    },
    {
      "cell_type": "markdown",
      "metadata": {
        "id": "1c4a5bec-7da3-4fbf-92ec-e26526888dd9"
      },
      "source": [
        "Una  vez  hecho  este  paso,  preparamos  los  datos  de  tal  manera  que  tengamos  Star  Rating \n",
        "como variable resultante y wordcount y sentimentvalue como variables dependientes. "
      ],
      "id": "1c4a5bec-7da3-4fbf-92ec-e26526888dd9"
    },
    {
      "cell_type": "code",
      "metadata": {
        "id": "26003007-c93c-46ac-991c-c42d33502cb5"
      },
      "source": [
        "X = df[['wordcount','sentimentValue']].values \n",
        "y = df['Star Rating'].values  \n",
        "X_train, X_test, y_train, y_test = train_test_split(X, y, random_state=0) \n",
        "scaler = MinMaxScaler() \n",
        "X_train = scaler.fit_transform(X_train) \n",
        "X_test = scaler.transform(X_test)"
      ],
      "id": "26003007-c93c-46ac-991c-c42d33502cb5",
      "execution_count": null,
      "outputs": []
    },
    {
      "cell_type": "markdown",
      "metadata": {
        "id": "cf543dbe-db0a-4ee8-8bac-b37dd0fe159b"
      },
      "source": [
        "Antes de aplicar el modelo, necesitamos importarlo desde el módulo donde está presente: "
      ],
      "id": "cf543dbe-db0a-4ee8-8bac-b37dd0fe159b"
    },
    {
      "cell_type": "code",
      "metadata": {
        "id": "f56d58ee-649c-485f-84f0-0ca6e525dd5e"
      },
      "source": [
        "from sklearn.neighbors import KNeighborsClassifier "
      ],
      "id": "f56d58ee-649c-485f-84f0-0ca6e525dd5e",
      "execution_count": null,
      "outputs": []
    },
    {
      "cell_type": "markdown",
      "metadata": {
        "id": "0c154fc1-5e3c-49c9-a73f-aa36c93de05f"
      },
      "source": [
        "Y ahora sí que lo tenemos preparado. Escribimos el código: "
      ],
      "id": "0c154fc1-5e3c-49c9-a73f-aa36c93de05f"
    },
    {
      "cell_type": "code",
      "metadata": {
        "id": "716c1d6e-4e2f-4586-93c2-7b330465f6a6",
        "colab": {
          "base_uri": "https://localhost:8080/"
        },
        "outputId": "b2a8927f-66e2-46ca-d69d-dfecf31dd343"
      },
      "source": [
        "n_neighbors = 7  \n",
        "knnModel = KNeighborsClassifier(n_neighbors) \n",
        "knnModel.fit(X_train, y_train) "
      ],
      "id": "716c1d6e-4e2f-4586-93c2-7b330465f6a6",
      "execution_count": null,
      "outputs": [
        {
          "output_type": "execute_result",
          "data": {
            "text/plain": [
              "KNeighborsClassifier(algorithm='auto', leaf_size=30, metric='minkowski',\n",
              "                     metric_params=None, n_jobs=None, n_neighbors=7, p=2,\n",
              "                     weights='uniform')"
            ]
          },
          "metadata": {
            "tags": []
          },
          "execution_count": 7
        }
      ]
    },
    {
      "cell_type": "markdown",
      "metadata": {
        "id": "a1fea884-cc1c-42dc-913f-ebda3db56d16"
      },
      "source": [
        "Para  ver  si  el  modelo  es  bueno  o  no,  tendremos  que  calcular  Accuracy.  Lo  hacemos  de  la siguiente manera:"
      ],
      "id": "a1fea884-cc1c-42dc-913f-ebda3db56d16"
    },
    {
      "cell_type": "code",
      "metadata": {
        "id": "776b102b-c3fe-419a-85e6-7d66934592ec",
        "colab": {
          "base_uri": "https://localhost:8080/"
        },
        "outputId": "36c59dbf-3a1c-4296-aa78-eb99754d3b7a"
      },
      "source": [
        "print('Accuracy del modelo K-NN por el train set es: {:.2f}' \n",
        "     .format(knnModel.score(X_train, y_train))) "
      ],
      "id": "776b102b-c3fe-419a-85e6-7d66934592ec",
      "execution_count": null,
      "outputs": [
        {
          "output_type": "stream",
          "text": [
            "Accuracy del modelo K-NN por el train set es: 0.90\n"
          ],
          "name": "stdout"
        }
      ]
    },
    {
      "cell_type": "markdown",
      "metadata": {
        "id": "b3aebe1e-ea4c-42ad-8ecf-2c225c1be055"
      },
      "source": [
        "El resultado que obtenemos es: \n",
        "Accuracy del modelo K-NN por el train set es: 0.90 \n",
        " \n",
        "Lo que nos está indicando es que la precisión por el paquete de entrenamiento o train set es \n",
        "del 90 %. \n",
        "\n",
        "Fíjate que estamos usando un modelo de clasificación porque queremos predecir una categoría (1, 2, 3, 4 o 5) y no un número de valor cuantitativo, como en el ejercicio anterior. \n",
        "\n",
        "Para trabajar sobre la precisión del modelo, necesitamos importar las funciones siguientes: "
      ],
      "id": "b3aebe1e-ea4c-42ad-8ecf-2c225c1be055"
    },
    {
      "cell_type": "code",
      "metadata": {
        "id": "98ff6ea6-f33e-4438-a2f5-53bf243c7bc0"
      },
      "source": [
        "from sklearn.metrics import classification_report \n",
        "from sklearn.metrics import confusion_matrix "
      ],
      "id": "98ff6ea6-f33e-4438-a2f5-53bf243c7bc0",
      "execution_count": null,
      "outputs": []
    },
    {
      "cell_type": "markdown",
      "metadata": {
        "id": "e91f3600-dce1-42a7-b5d9-42769be6854d"
      },
      "source": [
        "Y, después, ponerlas a trabajar sobre nuestro modelo: "
      ],
      "id": "e91f3600-dce1-42a7-b5d9-42769be6854d"
    },
    {
      "cell_type": "code",
      "metadata": {
        "id": "4ba1108c-fc9e-4079-bb5b-d58bacd7cbc5",
        "colab": {
          "base_uri": "https://localhost:8080/"
        },
        "outputId": "50a76a59-012c-44ad-d7dc-d8475d6e29de"
      },
      "source": [
        "pred = knnModel.predict(X_test) \n",
        "print(confusion_matrix(y_test, pred)) \n",
        "print(classification_report(y_test, pred)) "
      ],
      "id": "4ba1108c-fc9e-4079-bb5b-d58bacd7cbc5",
      "execution_count": null,
      "outputs": [
        {
          "output_type": "stream",
          "text": [
            "[[ 9  0  1  0  0]\n",
            " [ 0  1  0  0  0]\n",
            " [ 0  1 17  0  1]\n",
            " [ 0  0  2  8  0]\n",
            " [ 0  0  4  0 21]]\n",
            "              precision    recall  f1-score   support\n",
            "\n",
            "           1       1.00      0.90      0.95        10\n",
            "           2       0.50      1.00      0.67         1\n",
            "           3       0.71      0.89      0.79        19\n",
            "           4       1.00      0.80      0.89        10\n",
            "           5       0.95      0.84      0.89        25\n",
            "\n",
            "    accuracy                           0.86        65\n",
            "   macro avg       0.83      0.89      0.84        65\n",
            "weighted avg       0.89      0.86      0.87        65\n",
            "\n"
          ],
          "name": "stdout"
        }
      ]
    },
    {
      "cell_type": "markdown",
      "metadata": {
        "id": "605ce398-cbcf-49a8-bb61-58c434d4d826"
      },
      "source": [
        "Como  vemos,  el  resultado  “f1-score”  es  del  87  %  y,  por  lo  tanto,  podemos  considerar  que  la \n",
        "precisión es bastante buena."
      ],
      "id": "605ce398-cbcf-49a8-bb61-58c434d4d826"
    },
    {
      "cell_type": "markdown",
      "metadata": {
        "id": "5b6c8c59-2179-4044-807d-7bb05c02c2d0"
      },
      "source": [
        "Ahora,  nos  queda  ver  qué  categoría  asigna  nuestro  modelo,  considerando  un  número  de palabras (wordcount) y el valor de sentimiento (sentimentvalue) determinados. Introducimos \n",
        "este código:"
      ],
      "id": "5b6c8c59-2179-4044-807d-7bb05c02c2d0"
    },
    {
      "cell_type": "code",
      "metadata": {
        "id": "6982880d-5cbe-42a1-99b8-aedd68edc5bd",
        "colab": {
          "base_uri": "https://localhost:8080/"
        },
        "outputId": "b8ac4572-97bd-4e2c-8196-310dfdea8759"
      },
      "source": [
        "clf = KNeighborsClassifier(n_neighbors, weights='distance') \n",
        "clf.fit(X, y) "
      ],
      "id": "6982880d-5cbe-42a1-99b8-aedd68edc5bd",
      "execution_count": null,
      "outputs": [
        {
          "output_type": "execute_result",
          "data": {
            "text/plain": [
              "KNeighborsClassifier(algorithm='auto', leaf_size=30, metric='minkowski',\n",
              "                     metric_params=None, n_jobs=None, n_neighbors=7, p=2,\n",
              "                     weights='distance')"
            ]
          },
          "metadata": {
            "tags": []
          },
          "execution_count": 11
        }
      ]
    },
    {
      "cell_type": "markdown",
      "metadata": {
        "id": "e00832b2-9cef-44cf-ba45-a28cd14a596b"
      },
      "source": [
        "Introducimos el wordcount y el sentimentvalue en la función predict():"
      ],
      "id": "e00832b2-9cef-44cf-ba45-a28cd14a596b"
    },
    {
      "cell_type": "code",
      "metadata": {
        "id": "f0b5c1ea-3c11-436a-ad9b-dd32e90988a6",
        "colab": {
          "base_uri": "https://localhost:8080/"
        },
        "outputId": "2f1d9640-711e-44fa-8cee-17ee04f938d3"
      },
      "source": [
        "print(clf.predict([[5, 1.0]]))"
      ],
      "id": "f0b5c1ea-3c11-436a-ad9b-dd32e90988a6",
      "execution_count": null,
      "outputs": [
        {
          "output_type": "stream",
          "text": [
            "[5]\n"
          ],
          "name": "stdout"
        }
      ]
    },
    {
      "cell_type": "markdown",
      "metadata": {
        "id": "8c29b42c-406f-4eb8-ada3-b70b2f09ae5d"
      },
      "source": [
        "Y el modelo nos dice que, en este caso, la categoría más probable seria 5.\n",
        "\n",
        "Podemos  usar  la  función  predict_proba(),  para  ver  qué  probabilidad  tendría  cada  categoría \n",
        "para  un  determinado  comentario,  sabiendo  el  número  de  palabras  y  el  valor  de  sentimiento.\n",
        "\n",
        "Lo haremos así:"
      ],
      "id": "8c29b42c-406f-4eb8-ada3-b70b2f09ae5d"
    },
    {
      "cell_type": "code",
      "metadata": {
        "id": "617d4c13-dbc0-45a4-bd02-d39db3f2dd01",
        "colab": {
          "base_uri": "https://localhost:8080/"
        },
        "outputId": "601737c0-f7d0-44f7-916d-d2147baa0cf6"
      },
      "source": [
        "print(clf.predict_proba([[20, 0.0]]))"
      ],
      "id": "617d4c13-dbc0-45a4-bd02-d39db3f2dd01",
      "execution_count": null,
      "outputs": [
        {
          "output_type": "stream",
          "text": [
            "[[0.00381998 0.02520212 0.97097789 0.         0.        ]]\n"
          ],
          "name": "stdout"
        }
      ]
    },
    {
      "cell_type": "markdown",
      "metadata": {
        "id": "f0e0ed87-57dc-4e99-9e0a-e0a347000db9"
      },
      "source": [
        " El resultado que obtenemos es: \n",
        " \n",
        "[[0.00381998 0.02520212 0.97097789 0. 0. ]] \n",
        "\n",
        "Esto  quiere  decir  que  la  probabilidad  de  cada  categoría  para  un  comentario  de  20  palabras \n",
        "con un valor de sentimiento de 0.0 es la siguiente: \n",
        "\n",
        "- Categoría 1 – 0,3% \n",
        "- Categoría 2 – 2,52 % \n",
        "- Categoría 3 – 97,09 % \n",
        "- Categoría 4 – 0 % \n",
        "- Categoría 5 – 0 % \n",
        " \n",
        "Ya hemos visto un modelo de clasificación para predecir qué categoría tendría un comentario, \n",
        "teniendo en cuenta su número de palabras y el sentimiento de valor. "
      ],
      "id": "f0e0ed87-57dc-4e99-9e0a-e0a347000db9"
    }
  ]
}