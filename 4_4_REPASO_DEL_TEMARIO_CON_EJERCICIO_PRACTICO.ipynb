{
  "nbformat": 4,
  "nbformat_minor": 5,
  "metadata": {
    "kernelspec": {
      "display_name": "Python 3",
      "language": "python",
      "name": "python3"
    },
    "language_info": {
      "codemirror_mode": {
        "name": "ipython",
        "version": 3
      },
      "file_extension": ".py",
      "mimetype": "text/x-python",
      "name": "python",
      "nbconvert_exporter": "python",
      "pygments_lexer": "ipython3",
      "version": "3.8.8"
    },
    "colab": {
      "name": "4_4_REPASO_DEL_TEMARIO_CON_EJERCICIO_PRACTICO.ipynb",
      "provenance": [],
      "include_colab_link": true
    }
  },
  "cells": [
    {
      "cell_type": "markdown",
      "metadata": {
        "id": "view-in-github",
        "colab_type": "text"
      },
      "source": [
        "<a href=\"https://colab.research.google.com/github/leobioinf0/233_Introduccion_a_la_ciencia_de_datos/blob/main/4_4_REPASO_DEL_TEMARIO_CON_EJERCICIO_PRACTICO.ipynb\" target=\"_parent\"><img src=\"https://colab.research.google.com/assets/colab-badge.svg\" alt=\"Open In Colab\"/></a>"
      ]
    },
    {
      "cell_type": "markdown",
      "metadata": {
        "id": "3c70c7e8-cc44-4e60-b8a6-232691a28cd1"
      },
      "source": [
        "# 4.4 REPASO DEL TEMARIO CON EJERCICIO PRÁCTICO\n",
        "\n",
        "Repasemos lo que hemos hecho hasta ahora con unos ejercicios.  \n",
        "Abre un proyecto nuevo con Jupyter Notebook e introduce este código que aparece en  pantalla. Primero, carga la librería Pandas y, después, crea una base de datos que guardamos  en una variable que podemos denominar, por ejemplo, notas. "
      ],
      "id": "3c70c7e8-cc44-4e60-b8a6-232691a28cd1"
    },
    {
      "cell_type": "code",
      "metadata": {
        "id": "9df4467b-b05c-431a-bfc5-2426435669d5",
        "outputId": "aa6e7dc7-9832-42a4-9986-61f6bf82b897"
      },
      "source": [
        "import pandas as pd\n",
        "\n",
        "notas = pd.DataFrame([[6.5, 6.8, 5.8,7.9,8.8, 'Barcelona'], \n",
        "                       [6.8,7.,6.5,8.9,9.2, 'Girona'],\n",
        "                       [7.8,6.2,6.5,4.1,8.0, 'Tarragona'], \n",
        "                       [16.9,7.2,4.7,8.8,6.2, 'Lieida']],\n",
        "                       columns=['Historia', 'Meteméticas', 'Fisica', 'Ingiés', 'Biologia', 'Ciuded'], \n",
        "                       index = ['Joan','Laura','Enric','Georgina'])\n",
        "notas                         "
      ],
      "id": "9df4467b-b05c-431a-bfc5-2426435669d5",
      "execution_count": null,
      "outputs": [
        {
          "output_type": "execute_result",
          "data": {
            "text/html": [
              "<div>\n",
              "<style scoped>\n",
              "    .dataframe tbody tr th:only-of-type {\n",
              "        vertical-align: middle;\n",
              "    }\n",
              "\n",
              "    .dataframe tbody tr th {\n",
              "        vertical-align: top;\n",
              "    }\n",
              "\n",
              "    .dataframe thead th {\n",
              "        text-align: right;\n",
              "    }\n",
              "</style>\n",
              "<table border=\"1\" class=\"dataframe\">\n",
              "  <thead>\n",
              "    <tr style=\"text-align: right;\">\n",
              "      <th></th>\n",
              "      <th>Historia</th>\n",
              "      <th>Meteméticas</th>\n",
              "      <th>Fisica</th>\n",
              "      <th>Ingiés</th>\n",
              "      <th>Biologia</th>\n",
              "      <th>Ciuded</th>\n",
              "    </tr>\n",
              "  </thead>\n",
              "  <tbody>\n",
              "    <tr>\n",
              "      <th>Joan</th>\n",
              "      <td>6.5</td>\n",
              "      <td>6.8</td>\n",
              "      <td>5.8</td>\n",
              "      <td>7.9</td>\n",
              "      <td>8.8</td>\n",
              "      <td>Barcelona</td>\n",
              "    </tr>\n",
              "    <tr>\n",
              "      <th>Laura</th>\n",
              "      <td>6.8</td>\n",
              "      <td>7.0</td>\n",
              "      <td>6.5</td>\n",
              "      <td>8.9</td>\n",
              "      <td>9.2</td>\n",
              "      <td>Girona</td>\n",
              "    </tr>\n",
              "    <tr>\n",
              "      <th>Enric</th>\n",
              "      <td>7.8</td>\n",
              "      <td>6.2</td>\n",
              "      <td>6.5</td>\n",
              "      <td>4.1</td>\n",
              "      <td>8.0</td>\n",
              "      <td>Tarragona</td>\n",
              "    </tr>\n",
              "    <tr>\n",
              "      <th>Georgina</th>\n",
              "      <td>16.9</td>\n",
              "      <td>7.2</td>\n",
              "      <td>4.7</td>\n",
              "      <td>8.8</td>\n",
              "      <td>6.2</td>\n",
              "      <td>Lieida</td>\n",
              "    </tr>\n",
              "  </tbody>\n",
              "</table>\n",
              "</div>"
            ],
            "text/plain": [
              "          Historia  Meteméticas  Fisica  Ingiés  Biologia     Ciuded\n",
              "Joan           6.5          6.8     5.8     7.9       8.8  Barcelona\n",
              "Laura          6.8          7.0     6.5     8.9       9.2     Girona\n",
              "Enric          7.8          6.2     6.5     4.1       8.0  Tarragona\n",
              "Georgina      16.9          7.2     4.7     8.8       6.2     Lieida"
            ]
          },
          "metadata": {
            "tags": []
          },
          "execution_count": 22
        }
      ]
    },
    {
      "cell_type": "markdown",
      "metadata": {
        "id": "36c4794b-03e5-4474-ac77-940a1566655e"
      },
      "source": [
        "  \n",
        "Bien,vemos que se trata de una tabla que recoge las notas de cuatro estudiantes y su ciudad de  procedencia. \n",
        "\n",
        "Para empezar, revisemos cómo podemos extraer la nota que ha sacado Laura en Física y la ciudad de Joan. ¿Sabes cómo hacerlo?\n",
        "\n",
        "Solo hay que mencionar el nombre de la base de datos, seleccionar la columna del atributo,  en este caso física o ciudad y, después, indicar la posición de la observación, es decir, la  posición del estudiante del que queremos extraer la información:  "
      ],
      "id": "36c4794b-03e5-4474-ac77-940a1566655e"
    },
    {
      "cell_type": "code",
      "metadata": {
        "id": "482d47c4-141d-4799-85dc-688dc4bab5d7",
        "outputId": "a6bf6fe5-0a9d-42f3-84fc-50ff052bd56f"
      },
      "source": [
        "notas[\"Fisica\"][1]"
      ],
      "id": "482d47c4-141d-4799-85dc-688dc4bab5d7",
      "execution_count": null,
      "outputs": [
        {
          "output_type": "execute_result",
          "data": {
            "text/plain": [
              "6.5"
            ]
          },
          "metadata": {
            "tags": []
          },
          "execution_count": 23
        }
      ]
    },
    {
      "cell_type": "markdown",
      "metadata": {
        "id": "653e6c25-c37a-4753-a758-59d567dc8c0d"
      },
      "source": [
        "¿Te has fijado que estamos trabajando con diccionarios? Sí, el nombre de la columna es la  clave que da acceso a su lista de valores y, solo indicando la posición, obtenemos el dato que  queremos. \n",
        "   \n",
        "Vamos, ahora, a hacer un filtro. Si queremos ver las observaciones (estudiantes) que han  aprobado física, ¿cómo lo haríamos? Pues denominamos la base de datos y, dentro de los corchetes, introducimos la condición. Es fácil, ¿verdad? "
      ],
      "id": "653e6c25-c37a-4753-a758-59d567dc8c0d"
    },
    {
      "cell_type": "code",
      "metadata": {
        "id": "8648e6c3-ff95-449b-8dc5-471b336ad7d5",
        "outputId": "5fc60313-23e5-4ecf-ec31-05f9c352bb59"
      },
      "source": [
        "notas[notas.Fisica > 5]"
      ],
      "id": "8648e6c3-ff95-449b-8dc5-471b336ad7d5",
      "execution_count": null,
      "outputs": [
        {
          "output_type": "execute_result",
          "data": {
            "text/html": [
              "<div>\n",
              "<style scoped>\n",
              "    .dataframe tbody tr th:only-of-type {\n",
              "        vertical-align: middle;\n",
              "    }\n",
              "\n",
              "    .dataframe tbody tr th {\n",
              "        vertical-align: top;\n",
              "    }\n",
              "\n",
              "    .dataframe thead th {\n",
              "        text-align: right;\n",
              "    }\n",
              "</style>\n",
              "<table border=\"1\" class=\"dataframe\">\n",
              "  <thead>\n",
              "    <tr style=\"text-align: right;\">\n",
              "      <th></th>\n",
              "      <th>Historia</th>\n",
              "      <th>Meteméticas</th>\n",
              "      <th>Fisica</th>\n",
              "      <th>Ingiés</th>\n",
              "      <th>Biologia</th>\n",
              "      <th>Ciuded</th>\n",
              "    </tr>\n",
              "  </thead>\n",
              "  <tbody>\n",
              "    <tr>\n",
              "      <th>Joan</th>\n",
              "      <td>6.5</td>\n",
              "      <td>6.8</td>\n",
              "      <td>5.8</td>\n",
              "      <td>7.9</td>\n",
              "      <td>8.8</td>\n",
              "      <td>Barcelona</td>\n",
              "    </tr>\n",
              "    <tr>\n",
              "      <th>Laura</th>\n",
              "      <td>6.8</td>\n",
              "      <td>7.0</td>\n",
              "      <td>6.5</td>\n",
              "      <td>8.9</td>\n",
              "      <td>9.2</td>\n",
              "      <td>Girona</td>\n",
              "    </tr>\n",
              "    <tr>\n",
              "      <th>Enric</th>\n",
              "      <td>7.8</td>\n",
              "      <td>6.2</td>\n",
              "      <td>6.5</td>\n",
              "      <td>4.1</td>\n",
              "      <td>8.0</td>\n",
              "      <td>Tarragona</td>\n",
              "    </tr>\n",
              "  </tbody>\n",
              "</table>\n",
              "</div>"
            ],
            "text/plain": [
              "       Historia  Meteméticas  Fisica  Ingiés  Biologia     Ciuded\n",
              "Joan        6.5          6.8     5.8     7.9       8.8  Barcelona\n",
              "Laura       6.8          7.0     6.5     8.9       9.2     Girona\n",
              "Enric       7.8          6.2     6.5     4.1       8.0  Tarragona"
            ]
          },
          "metadata": {
            "tags": []
          },
          "execution_count": 24
        }
      ]
    },
    {
      "cell_type": "markdown",
      "metadata": {
        "id": "a1f1276c-b4ab-423e-a02b-66f76d7efe09"
      },
      "source": [
        "Si mostramos la tabla, veremos que Georgina es quien no ha aprobado física. ¿Y si ha sido un  error y realmente sí que lo ha aprobado? Si su nota es de 7.0, ¿cómo la podemos cambiar?  Pues bien, solo hay que acceder a su nota y cambiarla.  "
      ],
      "id": "a1f1276c-b4ab-423e-a02b-66f76d7efe09"
    },
    {
      "cell_type": "code",
      "metadata": {
        "id": "9122f7a2-388d-4d88-ba1a-f69d2907f4e7",
        "outputId": "f4dff5be-979e-460c-a77b-944c02b571ba"
      },
      "source": [
        "notas[\"Fisica\"][3] = 5.0\n",
        "notas"
      ],
      "id": "9122f7a2-388d-4d88-ba1a-f69d2907f4e7",
      "execution_count": null,
      "outputs": [
        {
          "output_type": "stream",
          "text": [
            "<ipython-input-25-180156789102>:1: SettingWithCopyWarning: \n",
            "A value is trying to be set on a copy of a slice from a DataFrame\n",
            "\n",
            "See the caveats in the documentation: https://pandas.pydata.org/pandas-docs/stable/user_guide/indexing.html#returning-a-view-versus-a-copy\n",
            "  notas[\"Fisica\"][3] = 5.0\n"
          ],
          "name": "stderr"
        },
        {
          "output_type": "execute_result",
          "data": {
            "text/html": [
              "<div>\n",
              "<style scoped>\n",
              "    .dataframe tbody tr th:only-of-type {\n",
              "        vertical-align: middle;\n",
              "    }\n",
              "\n",
              "    .dataframe tbody tr th {\n",
              "        vertical-align: top;\n",
              "    }\n",
              "\n",
              "    .dataframe thead th {\n",
              "        text-align: right;\n",
              "    }\n",
              "</style>\n",
              "<table border=\"1\" class=\"dataframe\">\n",
              "  <thead>\n",
              "    <tr style=\"text-align: right;\">\n",
              "      <th></th>\n",
              "      <th>Historia</th>\n",
              "      <th>Meteméticas</th>\n",
              "      <th>Fisica</th>\n",
              "      <th>Ingiés</th>\n",
              "      <th>Biologia</th>\n",
              "      <th>Ciuded</th>\n",
              "    </tr>\n",
              "  </thead>\n",
              "  <tbody>\n",
              "    <tr>\n",
              "      <th>Joan</th>\n",
              "      <td>6.5</td>\n",
              "      <td>6.8</td>\n",
              "      <td>5.8</td>\n",
              "      <td>7.9</td>\n",
              "      <td>8.8</td>\n",
              "      <td>Barcelona</td>\n",
              "    </tr>\n",
              "    <tr>\n",
              "      <th>Laura</th>\n",
              "      <td>6.8</td>\n",
              "      <td>7.0</td>\n",
              "      <td>6.5</td>\n",
              "      <td>8.9</td>\n",
              "      <td>9.2</td>\n",
              "      <td>Girona</td>\n",
              "    </tr>\n",
              "    <tr>\n",
              "      <th>Enric</th>\n",
              "      <td>7.8</td>\n",
              "      <td>6.2</td>\n",
              "      <td>6.5</td>\n",
              "      <td>4.1</td>\n",
              "      <td>8.0</td>\n",
              "      <td>Tarragona</td>\n",
              "    </tr>\n",
              "    <tr>\n",
              "      <th>Georgina</th>\n",
              "      <td>16.9</td>\n",
              "      <td>7.2</td>\n",
              "      <td>5.0</td>\n",
              "      <td>8.8</td>\n",
              "      <td>6.2</td>\n",
              "      <td>Lieida</td>\n",
              "    </tr>\n",
              "  </tbody>\n",
              "</table>\n",
              "</div>"
            ],
            "text/plain": [
              "          Historia  Meteméticas  Fisica  Ingiés  Biologia     Ciuded\n",
              "Joan           6.5          6.8     5.8     7.9       8.8  Barcelona\n",
              "Laura          6.8          7.0     6.5     8.9       9.2     Girona\n",
              "Enric          7.8          6.2     6.5     4.1       8.0  Tarragona\n",
              "Georgina      16.9          7.2     5.0     8.8       6.2     Lieida"
            ]
          },
          "metadata": {
            "tags": []
          },
          "execution_count": 25
        }
      ]
    },
    {
      "cell_type": "markdown",
      "metadata": {
        "id": "bd7b6a64-5c35-4631-8d13-00559358ab74"
      },
      "source": [
        "A continuación, extraemos una tabla reducida que esté formada por las notas de Biología de  solo las chicas. La clave está en usar el operador loc[]."
      ],
      "id": "bd7b6a64-5c35-4631-8d13-00559358ab74"
    },
    {
      "cell_type": "code",
      "metadata": {
        "id": "e5b7c543-a3d5-4e94-8527-387a6722bb47",
        "outputId": "cbe33a78-fc26-4d55-9573-c613e80ff6f8"
      },
      "source": [
        "notas.loc[[\"Laura\",\"Georgina\"],[\"Biologia\"]]"
      ],
      "id": "e5b7c543-a3d5-4e94-8527-387a6722bb47",
      "execution_count": null,
      "outputs": [
        {
          "output_type": "execute_result",
          "data": {
            "text/html": [
              "<div>\n",
              "<style scoped>\n",
              "    .dataframe tbody tr th:only-of-type {\n",
              "        vertical-align: middle;\n",
              "    }\n",
              "\n",
              "    .dataframe tbody tr th {\n",
              "        vertical-align: top;\n",
              "    }\n",
              "\n",
              "    .dataframe thead th {\n",
              "        text-align: right;\n",
              "    }\n",
              "</style>\n",
              "<table border=\"1\" class=\"dataframe\">\n",
              "  <thead>\n",
              "    <tr style=\"text-align: right;\">\n",
              "      <th></th>\n",
              "      <th>Biologia</th>\n",
              "    </tr>\n",
              "  </thead>\n",
              "  <tbody>\n",
              "    <tr>\n",
              "      <th>Laura</th>\n",
              "      <td>9.2</td>\n",
              "    </tr>\n",
              "    <tr>\n",
              "      <th>Georgina</th>\n",
              "      <td>6.2</td>\n",
              "    </tr>\n",
              "  </tbody>\n",
              "</table>\n",
              "</div>"
            ],
            "text/plain": [
              "          Biologia\n",
              "Laura          9.2\n",
              "Georgina       6.2"
            ]
          },
          "metadata": {
            "tags": []
          },
          "execution_count": 26
        }
      ]
    },
    {
      "cell_type": "markdown",
      "metadata": {
        "id": "00b2d1e4-629f-45b0-90c7-f124d9ff0a0d"
      },
      "source": [
        "Por último, vamos a hacer algo un poco más difícil. Añadimos una columna que muestre las  notas de cada estudiante y su desviación. ¡Construimos el código! Primero, tenemos que  crear dos listas. Después, crear un ciclo for que nos permita recorrer la tabla fila por fila. Por  eso usaremos el operador iloc[]. El operador formará una lista, a la que podremos aplicar la  función max() para calcular la media, y el operador std(), para calcular la desviación.  ¡Importante! Cada vez que apliquemos las funciones, el resultado se tiene que cargar a las  listas correspondientes: la media a su lista y la desviación a la suya. Es importante dar  nombres coherentes a las variables, para hacer que nuestro código sea fácil de entender, sin  tener que añadirle comentarios. "
      ],
      "id": "00b2d1e4-629f-45b0-90c7-f124d9ff0a0d"
    },
    {
      "cell_type": "code",
      "metadata": {
        "id": "06232bcc-1367-4547-9c4c-16e411e4af77",
        "outputId": "e015edc5-a6f2-4fa8-b907-d50e7f757eb2"
      },
      "source": [
        "mediana = []\n",
        "desviacion = []\n",
        "\n",
        "for i in range(4):\n",
        "    med = notas.iloc[i, 0:5].mean()\n",
        "    desv = notas.iloc[i, 0:5].std()\n",
        "    mediana.append(med)\n",
        "    desviacion.append(desv)\n",
        "\n",
        "notas['Mediana'] = mediana\n",
        "notas['Maxima'] = desviacion\n",
        "notas"
      ],
      "id": "06232bcc-1367-4547-9c4c-16e411e4af77",
      "execution_count": null,
      "outputs": [
        {
          "output_type": "execute_result",
          "data": {
            "text/html": [
              "<div>\n",
              "<style scoped>\n",
              "    .dataframe tbody tr th:only-of-type {\n",
              "        vertical-align: middle;\n",
              "    }\n",
              "\n",
              "    .dataframe tbody tr th {\n",
              "        vertical-align: top;\n",
              "    }\n",
              "\n",
              "    .dataframe thead th {\n",
              "        text-align: right;\n",
              "    }\n",
              "</style>\n",
              "<table border=\"1\" class=\"dataframe\">\n",
              "  <thead>\n",
              "    <tr style=\"text-align: right;\">\n",
              "      <th></th>\n",
              "      <th>Historia</th>\n",
              "      <th>Meteméticas</th>\n",
              "      <th>Fisica</th>\n",
              "      <th>Ingiés</th>\n",
              "      <th>Biologia</th>\n",
              "      <th>Ciuded</th>\n",
              "      <th>Mediana</th>\n",
              "      <th>Maxima</th>\n",
              "    </tr>\n",
              "  </thead>\n",
              "  <tbody>\n",
              "    <tr>\n",
              "      <th>Joan</th>\n",
              "      <td>6.5</td>\n",
              "      <td>6.8</td>\n",
              "      <td>5.8</td>\n",
              "      <td>7.9</td>\n",
              "      <td>8.8</td>\n",
              "      <td>Barcelona</td>\n",
              "      <td>7.16</td>\n",
              "      <td>1.188697</td>\n",
              "    </tr>\n",
              "    <tr>\n",
              "      <th>Laura</th>\n",
              "      <td>6.8</td>\n",
              "      <td>7.0</td>\n",
              "      <td>6.5</td>\n",
              "      <td>8.9</td>\n",
              "      <td>9.2</td>\n",
              "      <td>Girona</td>\n",
              "      <td>7.68</td>\n",
              "      <td>1.267675</td>\n",
              "    </tr>\n",
              "    <tr>\n",
              "      <th>Enric</th>\n",
              "      <td>7.8</td>\n",
              "      <td>6.2</td>\n",
              "      <td>6.5</td>\n",
              "      <td>4.1</td>\n",
              "      <td>8.0</td>\n",
              "      <td>Tarragona</td>\n",
              "      <td>6.52</td>\n",
              "      <td>1.564289</td>\n",
              "    </tr>\n",
              "    <tr>\n",
              "      <th>Georgina</th>\n",
              "      <td>16.9</td>\n",
              "      <td>7.2</td>\n",
              "      <td>5.0</td>\n",
              "      <td>8.8</td>\n",
              "      <td>6.2</td>\n",
              "      <td>Lieida</td>\n",
              "      <td>8.82</td>\n",
              "      <td>4.726732</td>\n",
              "    </tr>\n",
              "  </tbody>\n",
              "</table>\n",
              "</div>"
            ],
            "text/plain": [
              "          Historia  Meteméticas  Fisica  Ingiés  Biologia     Ciuded  Mediana  \\\n",
              "Joan           6.5          6.8     5.8     7.9       8.8  Barcelona     7.16   \n",
              "Laura          6.8          7.0     6.5     8.9       9.2     Girona     7.68   \n",
              "Enric          7.8          6.2     6.5     4.1       8.0  Tarragona     6.52   \n",
              "Georgina      16.9          7.2     5.0     8.8       6.2     Lieida     8.82   \n",
              "\n",
              "            Maxima  \n",
              "Joan      1.188697  \n",
              "Laura     1.267675  \n",
              "Enric     1.564289  \n",
              "Georgina  4.726732  "
            ]
          },
          "metadata": {
            "tags": []
          },
          "execution_count": 27
        }
      ]
    },
    {
      "cell_type": "markdown",
      "metadata": {
        "id": "2c773e0e-a7c8-4d40-9bf6-10f54a764cbe"
      },
      "source": [
        "Es básico practicar para avanzar. Anímate y procura jugar un poco más con esta base de  datos. Aquí, hemos visto varias cosas, pero seguro que puedes encontrar más acciones para  hacer. "
      ],
      "id": "2c773e0e-a7c8-4d40-9bf6-10f54a764cbe"
    }
  ]
}