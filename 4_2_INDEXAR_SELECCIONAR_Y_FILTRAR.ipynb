{
  "nbformat": 4,
  "nbformat_minor": 5,
  "metadata": {
    "kernelspec": {
      "display_name": "Python 3",
      "language": "python",
      "name": "python3"
    },
    "language_info": {
      "codemirror_mode": {
        "name": "ipython",
        "version": 3
      },
      "file_extension": ".py",
      "mimetype": "text/x-python",
      "name": "python",
      "nbconvert_exporter": "python",
      "pygments_lexer": "ipython3",
      "version": "3.8.8"
    },
    "colab": {
      "name": "4_2_INDEXAR_SELECCIONAR_Y_FILTRAR.ipynb",
      "provenance": [],
      "collapsed_sections": [],
      "include_colab_link": true
    }
  },
  "cells": [
    {
      "cell_type": "markdown",
      "metadata": {
        "id": "view-in-github",
        "colab_type": "text"
      },
      "source": [
        "<a href=\"https://colab.research.google.com/github/leobioinf0/233_Introduccion_a_la_ciencia_de_datos/blob/main/4_2_INDEXAR_SELECCIONAR_Y_FILTRAR.ipynb\" target=\"_parent\"><img src=\"https://colab.research.google.com/assets/colab-badge.svg\" alt=\"Open In Colab\"/></a>"
      ]
    },
    {
      "cell_type": "markdown",
      "metadata": {
        "id": "a67ec063-5f32-4250-a8e5-e10e76eb089e"
      },
      "source": [
        "#4.2 INDEXAR, SELECCIONAR Y FILTRAR  \n",
        "\n",
        "Seguimos avanzando y profundizando en las bases de datos.  \n",
        "\n",
        "A continuación, crea un nuevo proyecto con Jupyter Notebook y descárgate esta base de  datos desde este enlace. Guárdala en la misma carpeta donde tienes el proyecto nuevo.  \n",
        "Primero, cargamos la librería Pandas y le asignamos el nombre pd: "
      ],
      "id": "a67ec063-5f32-4250-a8e5-e10e76eb089e"
    },
    {
      "cell_type": "code",
      "metadata": {
        "id": "b40e72ff-d793-42e7-9cca-4a2af6c63166",
        "colab": {
          "base_uri": "https://localhost:8080/",
          "height": 204
        },
        "outputId": "67997d43-8a0a-40b8-d7a4-93615980cad7"
      },
      "source": [
        "import pandas as pd \n",
        "\n",
        "#Importamos la base de datos y la guardamos en una variable denominada data_base.  Después, vemos las cinco primeras observaciones: \n",
        "\n",
        "data_base = pd.read_csv('insurance.csv') \n",
        "data_base.head() "
      ],
      "id": "b40e72ff-d793-42e7-9cca-4a2af6c63166",
      "execution_count": null,
      "outputs": [
        {
          "output_type": "execute_result",
          "data": {
            "text/html": [
              "<div>\n",
              "<style scoped>\n",
              "    .dataframe tbody tr th:only-of-type {\n",
              "        vertical-align: middle;\n",
              "    }\n",
              "\n",
              "    .dataframe tbody tr th {\n",
              "        vertical-align: top;\n",
              "    }\n",
              "\n",
              "    .dataframe thead th {\n",
              "        text-align: right;\n",
              "    }\n",
              "</style>\n",
              "<table border=\"1\" class=\"dataframe\">\n",
              "  <thead>\n",
              "    <tr style=\"text-align: right;\">\n",
              "      <th></th>\n",
              "      <th>age</th>\n",
              "      <th>sex</th>\n",
              "      <th>bmi</th>\n",
              "      <th>children</th>\n",
              "      <th>smoker</th>\n",
              "      <th>region</th>\n",
              "      <th>charges</th>\n",
              "    </tr>\n",
              "  </thead>\n",
              "  <tbody>\n",
              "    <tr>\n",
              "      <th>0</th>\n",
              "      <td>19</td>\n",
              "      <td>female</td>\n",
              "      <td>27.900</td>\n",
              "      <td>0</td>\n",
              "      <td>yes</td>\n",
              "      <td>southwest</td>\n",
              "      <td>16884.92400</td>\n",
              "    </tr>\n",
              "    <tr>\n",
              "      <th>1</th>\n",
              "      <td>18</td>\n",
              "      <td>male</td>\n",
              "      <td>33.770</td>\n",
              "      <td>1</td>\n",
              "      <td>no</td>\n",
              "      <td>southeast</td>\n",
              "      <td>1725.55230</td>\n",
              "    </tr>\n",
              "    <tr>\n",
              "      <th>2</th>\n",
              "      <td>28</td>\n",
              "      <td>male</td>\n",
              "      <td>33.000</td>\n",
              "      <td>3</td>\n",
              "      <td>no</td>\n",
              "      <td>southeast</td>\n",
              "      <td>4449.46200</td>\n",
              "    </tr>\n",
              "    <tr>\n",
              "      <th>3</th>\n",
              "      <td>33</td>\n",
              "      <td>male</td>\n",
              "      <td>22.705</td>\n",
              "      <td>0</td>\n",
              "      <td>no</td>\n",
              "      <td>northwest</td>\n",
              "      <td>21984.47061</td>\n",
              "    </tr>\n",
              "    <tr>\n",
              "      <th>4</th>\n",
              "      <td>32</td>\n",
              "      <td>male</td>\n",
              "      <td>28.880</td>\n",
              "      <td>0</td>\n",
              "      <td>no</td>\n",
              "      <td>northwest</td>\n",
              "      <td>3866.85520</td>\n",
              "    </tr>\n",
              "  </tbody>\n",
              "</table>\n",
              "</div>"
            ],
            "text/plain": [
              "   age     sex     bmi  children smoker     region      charges\n",
              "0   19  female  27.900         0    yes  southwest  16884.92400\n",
              "1   18    male  33.770         1     no  southeast   1725.55230\n",
              "2   28    male  33.000         3     no  southeast   4449.46200\n",
              "3   33    male  22.705         0     no  northwest  21984.47061\n",
              "4   32    male  28.880         0     no  northwest   3866.85520"
            ]
          },
          "metadata": {
            "tags": []
          },
          "execution_count": 1
        }
      ]
    },
    {
      "cell_type": "markdown",
      "metadata": {
        "id": "9ce44bdb-1b16-4fd0-b326-656a95e689fe"
      },
      "source": [
        "Entonces, nos aparecen todas las columnas con sus cinco primeras observaciones, pero no  sabemos cómo es de grande esta base de datos. Si queremos imprimir solo un determinado  número de filas, pero queremos, además, ver el número total de filas, lo tendremos que hacer  así:"
      ],
      "id": "9ce44bdb-1b16-4fd0-b326-656a95e689fe"
    },
    {
      "cell_type": "code",
      "metadata": {
        "id": "46fd33df-56a0-4341-8acc-d375f8c2983b",
        "colab": {
          "base_uri": "https://localhost:8080/",
          "height": 419
        },
        "outputId": "e15c8075-eef2-417f-a1dc-860037c98db1"
      },
      "source": [
        "pd.set_option(\"display.max_rows\", 10) \n",
        "data_base"
      ],
      "id": "46fd33df-56a0-4341-8acc-d375f8c2983b",
      "execution_count": null,
      "outputs": [
        {
          "output_type": "execute_result",
          "data": {
            "text/html": [
              "<div>\n",
              "<style scoped>\n",
              "    .dataframe tbody tr th:only-of-type {\n",
              "        vertical-align: middle;\n",
              "    }\n",
              "\n",
              "    .dataframe tbody tr th {\n",
              "        vertical-align: top;\n",
              "    }\n",
              "\n",
              "    .dataframe thead th {\n",
              "        text-align: right;\n",
              "    }\n",
              "</style>\n",
              "<table border=\"1\" class=\"dataframe\">\n",
              "  <thead>\n",
              "    <tr style=\"text-align: right;\">\n",
              "      <th></th>\n",
              "      <th>age</th>\n",
              "      <th>sex</th>\n",
              "      <th>bmi</th>\n",
              "      <th>children</th>\n",
              "      <th>smoker</th>\n",
              "      <th>region</th>\n",
              "      <th>charges</th>\n",
              "    </tr>\n",
              "  </thead>\n",
              "  <tbody>\n",
              "    <tr>\n",
              "      <th>0</th>\n",
              "      <td>19</td>\n",
              "      <td>female</td>\n",
              "      <td>27.900</td>\n",
              "      <td>0</td>\n",
              "      <td>yes</td>\n",
              "      <td>southwest</td>\n",
              "      <td>16884.92400</td>\n",
              "    </tr>\n",
              "    <tr>\n",
              "      <th>1</th>\n",
              "      <td>18</td>\n",
              "      <td>male</td>\n",
              "      <td>33.770</td>\n",
              "      <td>1</td>\n",
              "      <td>no</td>\n",
              "      <td>southeast</td>\n",
              "      <td>1725.55230</td>\n",
              "    </tr>\n",
              "    <tr>\n",
              "      <th>2</th>\n",
              "      <td>28</td>\n",
              "      <td>male</td>\n",
              "      <td>33.000</td>\n",
              "      <td>3</td>\n",
              "      <td>no</td>\n",
              "      <td>southeast</td>\n",
              "      <td>4449.46200</td>\n",
              "    </tr>\n",
              "    <tr>\n",
              "      <th>3</th>\n",
              "      <td>33</td>\n",
              "      <td>male</td>\n",
              "      <td>22.705</td>\n",
              "      <td>0</td>\n",
              "      <td>no</td>\n",
              "      <td>northwest</td>\n",
              "      <td>21984.47061</td>\n",
              "    </tr>\n",
              "    <tr>\n",
              "      <th>4</th>\n",
              "      <td>32</td>\n",
              "      <td>male</td>\n",
              "      <td>28.880</td>\n",
              "      <td>0</td>\n",
              "      <td>no</td>\n",
              "      <td>northwest</td>\n",
              "      <td>3866.85520</td>\n",
              "    </tr>\n",
              "    <tr>\n",
              "      <th>...</th>\n",
              "      <td>...</td>\n",
              "      <td>...</td>\n",
              "      <td>...</td>\n",
              "      <td>...</td>\n",
              "      <td>...</td>\n",
              "      <td>...</td>\n",
              "      <td>...</td>\n",
              "    </tr>\n",
              "    <tr>\n",
              "      <th>1333</th>\n",
              "      <td>50</td>\n",
              "      <td>male</td>\n",
              "      <td>30.970</td>\n",
              "      <td>3</td>\n",
              "      <td>no</td>\n",
              "      <td>northwest</td>\n",
              "      <td>10600.54830</td>\n",
              "    </tr>\n",
              "    <tr>\n",
              "      <th>1334</th>\n",
              "      <td>18</td>\n",
              "      <td>female</td>\n",
              "      <td>31.920</td>\n",
              "      <td>0</td>\n",
              "      <td>no</td>\n",
              "      <td>northeast</td>\n",
              "      <td>2205.98080</td>\n",
              "    </tr>\n",
              "    <tr>\n",
              "      <th>1335</th>\n",
              "      <td>18</td>\n",
              "      <td>female</td>\n",
              "      <td>36.850</td>\n",
              "      <td>0</td>\n",
              "      <td>no</td>\n",
              "      <td>southeast</td>\n",
              "      <td>1629.83350</td>\n",
              "    </tr>\n",
              "    <tr>\n",
              "      <th>1336</th>\n",
              "      <td>21</td>\n",
              "      <td>female</td>\n",
              "      <td>25.800</td>\n",
              "      <td>0</td>\n",
              "      <td>no</td>\n",
              "      <td>southwest</td>\n",
              "      <td>2007.94500</td>\n",
              "    </tr>\n",
              "    <tr>\n",
              "      <th>1337</th>\n",
              "      <td>61</td>\n",
              "      <td>female</td>\n",
              "      <td>29.070</td>\n",
              "      <td>0</td>\n",
              "      <td>yes</td>\n",
              "      <td>northwest</td>\n",
              "      <td>29141.36030</td>\n",
              "    </tr>\n",
              "  </tbody>\n",
              "</table>\n",
              "<p>1338 rows × 7 columns</p>\n",
              "</div>"
            ],
            "text/plain": [
              "      age     sex     bmi  children smoker     region      charges\n",
              "0      19  female  27.900         0    yes  southwest  16884.92400\n",
              "1      18    male  33.770         1     no  southeast   1725.55230\n",
              "2      28    male  33.000         3     no  southeast   4449.46200\n",
              "3      33    male  22.705         0     no  northwest  21984.47061\n",
              "4      32    male  28.880         0     no  northwest   3866.85520\n",
              "...   ...     ...     ...       ...    ...        ...          ...\n",
              "1333   50    male  30.970         3     no  northwest  10600.54830\n",
              "1334   18  female  31.920         0     no  northeast   2205.98080\n",
              "1335   18  female  36.850         0     no  southeast   1629.83350\n",
              "1336   21  female  25.800         0     no  southwest   2007.94500\n",
              "1337   61  female  29.070         0    yes  northwest  29141.36030\n",
              "\n",
              "[1338 rows x 7 columns]"
            ]
          },
          "metadata": {
            "tags": []
          },
          "execution_count": 2
        }
      ]
    },
    {
      "cell_type": "markdown",
      "metadata": {
        "id": "0bb19724-836d-4e97-bba8-8a063460b771"
      },
      "source": [
        "  \n",
        "Aquí, nos aparecen los títulos de las columnas y cuatro filas con sus datos. Debajo de la  tabla, vemos que está formada por 1.338 filas (observaciones) y 7 columnas (atributos o  variables).\n",
        "\n",
        "Si queremos específicamente la información que contiene una variable determinada, solo  tendremos que introducir este código:"
      ],
      "id": "0bb19724-836d-4e97-bba8-8a063460b771"
    },
    {
      "cell_type": "code",
      "metadata": {
        "id": "c4d4f7a8-515f-4871-a65d-9eb87733ab64",
        "colab": {
          "base_uri": "https://localhost:8080/"
        },
        "outputId": "cf997a21-cc4f-45e4-b282-b6f0034f622e"
      },
      "source": [
        "data_base['region']"
      ],
      "id": "c4d4f7a8-515f-4871-a65d-9eb87733ab64",
      "execution_count": null,
      "outputs": [
        {
          "output_type": "execute_result",
          "data": {
            "text/plain": [
              "0       southwest\n",
              "1       southeast\n",
              "2       southeast\n",
              "3       northwest\n",
              "4       northwest\n",
              "          ...    \n",
              "1333    northwest\n",
              "1334    northeast\n",
              "1335    southeast\n",
              "1336    southwest\n",
              "1337    northwest\n",
              "Name: region, Length: 1338, dtype: object"
            ]
          },
          "metadata": {
            "tags": []
          },
          "execution_count": 3
        }
      ]
    },
    {
      "cell_type": "markdown",
      "metadata": {
        "id": "72484043-d38f-460e-93ad-d6231ec8995b"
      },
      "source": [
        "Ahora, vemos solo información correspondiente a la variable region.  \n",
        "\n",
        "Si quieres ver más observaciones, tendrás que cambiar el parámetro de la función  set_option(). En vez de cinco, puedes poner diez. Si haces el cambio, tendrás que volver a  ejecutar los códigos, para ver más filas en la base de datos. \n",
        "\n",
        "Nota: tú puedes escoger otra variable, como puede ser smoker, sex, age, etc. \n",
        "\n",
        "Supongamos, ahora, que quieres saber el valor más grande que tiene la columna bmi. Esto lo  puedes saber, llamando la función describe(). ¿Te acuerdas? O bien seleccionando solo la  columna bmi y haciendo uso de la función max(): "
      ],
      "id": "72484043-d38f-460e-93ad-d6231ec8995b"
    },
    {
      "cell_type": "code",
      "metadata": {
        "id": "bbf59cd5-71cf-4742-82e7-2c4db6c64df6",
        "colab": {
          "base_uri": "https://localhost:8080/"
        },
        "outputId": "ab0f97b5-ea25-45f6-cc9e-43d3f6cb649b"
      },
      "source": [
        "data_base['bmi'].max()"
      ],
      "id": "bbf59cd5-71cf-4742-82e7-2c4db6c64df6",
      "execution_count": null,
      "outputs": [
        {
          "output_type": "execute_result",
          "data": {
            "text/plain": [
              "53.13"
            ]
          },
          "metadata": {
            "tags": []
          },
          "execution_count": 4
        }
      ]
    },
    {
      "cell_type": "markdown",
      "metadata": {
        "id": "1583decf-3b2c-4f64-ae8a-9b926fcc20c6"
      },
      "source": [
        "En ambos casos, el resultado es 53,13. \n",
        "\n",
        "Y ¿cómo lo podemos hacer para seleccionar solo los 30 primeros valores de una columna?  Pues así:"
      ],
      "id": "1583decf-3b2c-4f64-ae8a-9b926fcc20c6"
    },
    {
      "cell_type": "code",
      "metadata": {
        "id": "c36cbb7c-195e-43f3-97a1-082198d31e38",
        "colab": {
          "base_uri": "https://localhost:8080/"
        },
        "outputId": "463fb729-7a92-4639-9408-7ca3b65c5034"
      },
      "source": [
        "bmi_30 = data_base['bmi'][0:30] \n",
        "bmi_30"
      ],
      "id": "c36cbb7c-195e-43f3-97a1-082198d31e38",
      "execution_count": null,
      "outputs": [
        {
          "output_type": "execute_result",
          "data": {
            "text/plain": [
              "0     27.900\n",
              "1     33.770\n",
              "2     33.000\n",
              "3     22.705\n",
              "4     28.880\n",
              "       ...  \n",
              "25    27.720\n",
              "26    23.085\n",
              "27    32.775\n",
              "28    17.385\n",
              "29    36.300\n",
              "Name: bmi, Length: 30, dtype: float64"
            ]
          },
          "metadata": {
            "tags": []
          },
          "execution_count": 5
        }
      ]
    },
    {
      "cell_type": "markdown",
      "metadata": {
        "id": "8921bf25-2147-4448-ab71-1e178e475d66"
      },
      "source": [
        "Ahora, miramos a ver cuál es el valor máximo de los 30 primeros valores de la columna bmi: "
      ],
      "id": "8921bf25-2147-4448-ab71-1e178e475d66"
    },
    {
      "cell_type": "code",
      "metadata": {
        "id": "65f06a63-9806-4bcc-a95e-6fd7ecfcad8e",
        "colab": {
          "base_uri": "https://localhost:8080/"
        },
        "outputId": "41d80ca7-89d8-46ec-8609-110f72a1ea3a"
      },
      "source": [
        "bmi_30.max() "
      ],
      "id": "65f06a63-9806-4bcc-a95e-6fd7ecfcad8e",
      "execution_count": null,
      "outputs": [
        {
          "output_type": "execute_result",
          "data": {
            "text/plain": [
              "42.13"
            ]
          },
          "metadata": {
            "tags": []
          },
          "execution_count": 6
        }
      ]
    },
    {
      "cell_type": "markdown",
      "metadata": {
        "id": "363f1b5f-70ca-4dbe-b0c5-39f33d888fbd"
      },
      "source": [
        "El valor obtenido es 42,13. El valor 53,13, pues, no está dentro de los 30 primeros valores. \n",
        "   \n",
        "Vamos a indexar, ahora, no solo valores de una columna, sino filas y columnas  conjuntamente. Si queremos, por ejemplo, trabajar con las diez primeras filas y las dos  primeras columnas, ¿cómo lo hacemos? Necesitamos trabajar con el operador iloc y lo  haremos así:"
      ],
      "id": "363f1b5f-70ca-4dbe-b0c5-39f33d888fbd"
    },
    {
      "cell_type": "code",
      "metadata": {
        "id": "c095d508-2860-4c3a-a8b4-95ca3804d731"
      },
      "source": [
        "data_base_2 = data_base.iloc[0:10,0:2]"
      ],
      "id": "c095d508-2860-4c3a-a8b4-95ca3804d731",
      "execution_count": null,
      "outputs": []
    },
    {
      "cell_type": "markdown",
      "metadata": {
        "id": "63c915c7-ad69-444e-95c7-7e36fe93afe5"
      },
      "source": [
        "El que hemos hecho, aquí, es decir que queremos las diez primeras filas (0:10) y las dos  primeras columnas (0:2) de data_base. Hemos guardado esta tabla reducida en un nuevo  espacio de memoria, a través de un nombre nuevo que es data_base_2. Esto es un objeto  nuevo, una nueva base de datos. Si llamamos esta nueva base de datos, obtenemos: "
      ],
      "id": "63c915c7-ad69-444e-95c7-7e36fe93afe5"
    },
    {
      "cell_type": "code",
      "metadata": {
        "id": "0a15d175-63a7-4a22-b653-bcc1e3cf27dd",
        "colab": {
          "base_uri": "https://localhost:8080/",
          "height": 359
        },
        "outputId": "80f61615-cad0-4746-bb61-2365f8796f9e"
      },
      "source": [
        "data_base_2"
      ],
      "id": "0a15d175-63a7-4a22-b653-bcc1e3cf27dd",
      "execution_count": null,
      "outputs": [
        {
          "output_type": "execute_result",
          "data": {
            "text/html": [
              "<div>\n",
              "<style scoped>\n",
              "    .dataframe tbody tr th:only-of-type {\n",
              "        vertical-align: middle;\n",
              "    }\n",
              "\n",
              "    .dataframe tbody tr th {\n",
              "        vertical-align: top;\n",
              "    }\n",
              "\n",
              "    .dataframe thead th {\n",
              "        text-align: right;\n",
              "    }\n",
              "</style>\n",
              "<table border=\"1\" class=\"dataframe\">\n",
              "  <thead>\n",
              "    <tr style=\"text-align: right;\">\n",
              "      <th></th>\n",
              "      <th>age</th>\n",
              "      <th>sex</th>\n",
              "    </tr>\n",
              "  </thead>\n",
              "  <tbody>\n",
              "    <tr>\n",
              "      <th>0</th>\n",
              "      <td>19</td>\n",
              "      <td>female</td>\n",
              "    </tr>\n",
              "    <tr>\n",
              "      <th>1</th>\n",
              "      <td>18</td>\n",
              "      <td>male</td>\n",
              "    </tr>\n",
              "    <tr>\n",
              "      <th>2</th>\n",
              "      <td>28</td>\n",
              "      <td>male</td>\n",
              "    </tr>\n",
              "    <tr>\n",
              "      <th>3</th>\n",
              "      <td>33</td>\n",
              "      <td>male</td>\n",
              "    </tr>\n",
              "    <tr>\n",
              "      <th>4</th>\n",
              "      <td>32</td>\n",
              "      <td>male</td>\n",
              "    </tr>\n",
              "    <tr>\n",
              "      <th>5</th>\n",
              "      <td>31</td>\n",
              "      <td>female</td>\n",
              "    </tr>\n",
              "    <tr>\n",
              "      <th>6</th>\n",
              "      <td>46</td>\n",
              "      <td>female</td>\n",
              "    </tr>\n",
              "    <tr>\n",
              "      <th>7</th>\n",
              "      <td>37</td>\n",
              "      <td>female</td>\n",
              "    </tr>\n",
              "    <tr>\n",
              "      <th>8</th>\n",
              "      <td>37</td>\n",
              "      <td>male</td>\n",
              "    </tr>\n",
              "    <tr>\n",
              "      <th>9</th>\n",
              "      <td>60</td>\n",
              "      <td>female</td>\n",
              "    </tr>\n",
              "  </tbody>\n",
              "</table>\n",
              "</div>"
            ],
            "text/plain": [
              "   age     sex\n",
              "0   19  female\n",
              "1   18    male\n",
              "2   28    male\n",
              "3   33    male\n",
              "4   32    male\n",
              "5   31  female\n",
              "6   46  female\n",
              "7   37  female\n",
              "8   37    male\n",
              "9   60  female"
            ]
          },
          "metadata": {
            "tags": []
          },
          "execution_count": 8
        }
      ]
    },
    {
      "cell_type": "markdown",
      "metadata": {
        "id": "15ab4dc2-5c3b-40b0-938a-3cc3399cc596"
      },
      "source": [
        "Podemos, también, en vez de seleccionar un intervalo de filas o columnas, seleccionar específicamente unas determinadas filas o columnas: "
      ],
      "id": "15ab4dc2-5c3b-40b0-938a-3cc3399cc596"
    },
    {
      "cell_type": "code",
      "metadata": {
        "id": "fb3c83ef-0556-4b83-9cf9-c3312213568e",
        "colab": {
          "base_uri": "https://localhost:8080/",
          "height": 142
        },
        "outputId": "a800072b-018f-4af5-a3ce-553b1be2a230"
      },
      "source": [
        "data_base_3 = data_base.iloc[[0,5,6],[0,4]] \n",
        "data_base_3"
      ],
      "id": "fb3c83ef-0556-4b83-9cf9-c3312213568e",
      "execution_count": null,
      "outputs": [
        {
          "output_type": "execute_result",
          "data": {
            "text/html": [
              "<div>\n",
              "<style scoped>\n",
              "    .dataframe tbody tr th:only-of-type {\n",
              "        vertical-align: middle;\n",
              "    }\n",
              "\n",
              "    .dataframe tbody tr th {\n",
              "        vertical-align: top;\n",
              "    }\n",
              "\n",
              "    .dataframe thead th {\n",
              "        text-align: right;\n",
              "    }\n",
              "</style>\n",
              "<table border=\"1\" class=\"dataframe\">\n",
              "  <thead>\n",
              "    <tr style=\"text-align: right;\">\n",
              "      <th></th>\n",
              "      <th>age</th>\n",
              "      <th>smoker</th>\n",
              "    </tr>\n",
              "  </thead>\n",
              "  <tbody>\n",
              "    <tr>\n",
              "      <th>0</th>\n",
              "      <td>19</td>\n",
              "      <td>yes</td>\n",
              "    </tr>\n",
              "    <tr>\n",
              "      <th>5</th>\n",
              "      <td>31</td>\n",
              "      <td>no</td>\n",
              "    </tr>\n",
              "    <tr>\n",
              "      <th>6</th>\n",
              "      <td>46</td>\n",
              "      <td>no</td>\n",
              "    </tr>\n",
              "  </tbody>\n",
              "</table>\n",
              "</div>"
            ],
            "text/plain": [
              "   age smoker\n",
              "0   19    yes\n",
              "5   31     no\n",
              "6   46     no"
            ]
          },
          "metadata": {
            "tags": []
          },
          "execution_count": 9
        }
      ]
    },
    {
      "cell_type": "markdown",
      "metadata": {
        "id": "69559277-171e-4b7b-948c-c25541ce64c4"
      },
      "source": [
        "Lo que hemos hecho aquí es obtener las filas 0, 5 y 6 y las columnas 0 y 4. Después, las hemos  guardado como otra base de datos reducida en otro espacio de memoria.  \n",
        "Para las columnas, podemos usar sus nombres propios para seleccionarlas. En este caso,  tenemos que usar el operador loc. Observemos este ejemplo:"
      ],
      "id": "69559277-171e-4b7b-948c-c25541ce64c4"
    },
    {
      "cell_type": "code",
      "metadata": {
        "id": "23ab01b5-3aea-4a65-82b1-1ff09a68405a",
        "colab": {
          "base_uri": "https://localhost:8080/",
          "height": 328
        },
        "outputId": "9be55af6-2baa-47b7-df86-2e7d6efd135c"
      },
      "source": [
        "data_base_4 = data_base.loc[0:8,['children','age']] \n",
        "data_base_4"
      ],
      "id": "23ab01b5-3aea-4a65-82b1-1ff09a68405a",
      "execution_count": null,
      "outputs": [
        {
          "output_type": "execute_result",
          "data": {
            "text/html": [
              "<div>\n",
              "<style scoped>\n",
              "    .dataframe tbody tr th:only-of-type {\n",
              "        vertical-align: middle;\n",
              "    }\n",
              "\n",
              "    .dataframe tbody tr th {\n",
              "        vertical-align: top;\n",
              "    }\n",
              "\n",
              "    .dataframe thead th {\n",
              "        text-align: right;\n",
              "    }\n",
              "</style>\n",
              "<table border=\"1\" class=\"dataframe\">\n",
              "  <thead>\n",
              "    <tr style=\"text-align: right;\">\n",
              "      <th></th>\n",
              "      <th>children</th>\n",
              "      <th>age</th>\n",
              "    </tr>\n",
              "  </thead>\n",
              "  <tbody>\n",
              "    <tr>\n",
              "      <th>0</th>\n",
              "      <td>0</td>\n",
              "      <td>19</td>\n",
              "    </tr>\n",
              "    <tr>\n",
              "      <th>1</th>\n",
              "      <td>1</td>\n",
              "      <td>18</td>\n",
              "    </tr>\n",
              "    <tr>\n",
              "      <th>2</th>\n",
              "      <td>3</td>\n",
              "      <td>28</td>\n",
              "    </tr>\n",
              "    <tr>\n",
              "      <th>3</th>\n",
              "      <td>0</td>\n",
              "      <td>33</td>\n",
              "    </tr>\n",
              "    <tr>\n",
              "      <th>4</th>\n",
              "      <td>0</td>\n",
              "      <td>32</td>\n",
              "    </tr>\n",
              "    <tr>\n",
              "      <th>5</th>\n",
              "      <td>0</td>\n",
              "      <td>31</td>\n",
              "    </tr>\n",
              "    <tr>\n",
              "      <th>6</th>\n",
              "      <td>1</td>\n",
              "      <td>46</td>\n",
              "    </tr>\n",
              "    <tr>\n",
              "      <th>7</th>\n",
              "      <td>3</td>\n",
              "      <td>37</td>\n",
              "    </tr>\n",
              "    <tr>\n",
              "      <th>8</th>\n",
              "      <td>2</td>\n",
              "      <td>37</td>\n",
              "    </tr>\n",
              "  </tbody>\n",
              "</table>\n",
              "</div>"
            ],
            "text/plain": [
              "   children  age\n",
              "0         0   19\n",
              "1         1   18\n",
              "2         3   28\n",
              "3         0   33\n",
              "4         0   32\n",
              "5         0   31\n",
              "6         1   46\n",
              "7         3   37\n",
              "8         2   37"
            ]
          },
          "metadata": {
            "tags": []
          },
          "execution_count": 10
        }
      ]
    },
    {
      "cell_type": "markdown",
      "metadata": {
        "id": "f98cc202-d223-4a96-a340-2e4d50900154"
      },
      "source": [
        "Lo que hemos hecho es seleccionar las ocho primeras filas de las columnas children y age.  \n",
        " \n",
        "Damos un paso adelante y vamos a crear tablas reducidas a partir de la tabla madre, no  haciendo uso de los índices de filas o columnas, sino de criterios condicionales. Imagina que  solo queremos aquellas observaciones que se encuentren en la región southwest. Este es el  código que necesitamos:"
      ],
      "id": "f98cc202-d223-4a96-a340-2e4d50900154"
    },
    {
      "cell_type": "code",
      "metadata": {
        "id": "3062e516-90e8-4165-a01f-c92d91c0da46"
      },
      "source": [
        "data_base_southwest = data_base.loc[data_base.region == 'southwest']"
      ],
      "id": "3062e516-90e8-4165-a01f-c92d91c0da46",
      "execution_count": null,
      "outputs": []
    },
    {
      "cell_type": "markdown",
      "metadata": {
        "id": "ab97d224-7c94-4603-b120-cd65e3553a2a"
      },
      "source": [
        "Y queremos sacar, por pantalla, solo las siete primeras filas y las dos primeras columnas:"
      ],
      "id": "ab97d224-7c94-4603-b120-cd65e3553a2a"
    },
    {
      "cell_type": "code",
      "metadata": {
        "id": "836174e3-f4d4-4fa5-811b-41f34095bdf3",
        "colab": {
          "base_uri": "https://localhost:8080/",
          "height": 266
        },
        "outputId": "18cc5de3-29a8-4e33-ddc4-1f43431707a8"
      },
      "source": [
        "data_base_southwest.iloc[0:7,0:2] "
      ],
      "id": "836174e3-f4d4-4fa5-811b-41f34095bdf3",
      "execution_count": null,
      "outputs": [
        {
          "output_type": "execute_result",
          "data": {
            "text/html": [
              "<div>\n",
              "<style scoped>\n",
              "    .dataframe tbody tr th:only-of-type {\n",
              "        vertical-align: middle;\n",
              "    }\n",
              "\n",
              "    .dataframe tbody tr th {\n",
              "        vertical-align: top;\n",
              "    }\n",
              "\n",
              "    .dataframe thead th {\n",
              "        text-align: right;\n",
              "    }\n",
              "</style>\n",
              "<table border=\"1\" class=\"dataframe\">\n",
              "  <thead>\n",
              "    <tr style=\"text-align: right;\">\n",
              "      <th></th>\n",
              "      <th>age</th>\n",
              "      <th>sex</th>\n",
              "    </tr>\n",
              "  </thead>\n",
              "  <tbody>\n",
              "    <tr>\n",
              "      <th>0</th>\n",
              "      <td>19</td>\n",
              "      <td>female</td>\n",
              "    </tr>\n",
              "    <tr>\n",
              "      <th>12</th>\n",
              "      <td>23</td>\n",
              "      <td>male</td>\n",
              "    </tr>\n",
              "    <tr>\n",
              "      <th>15</th>\n",
              "      <td>19</td>\n",
              "      <td>male</td>\n",
              "    </tr>\n",
              "    <tr>\n",
              "      <th>18</th>\n",
              "      <td>56</td>\n",
              "      <td>male</td>\n",
              "    </tr>\n",
              "    <tr>\n",
              "      <th>19</th>\n",
              "      <td>30</td>\n",
              "      <td>male</td>\n",
              "    </tr>\n",
              "    <tr>\n",
              "      <th>21</th>\n",
              "      <td>30</td>\n",
              "      <td>female</td>\n",
              "    </tr>\n",
              "    <tr>\n",
              "      <th>29</th>\n",
              "      <td>31</td>\n",
              "      <td>male</td>\n",
              "    </tr>\n",
              "  </tbody>\n",
              "</table>\n",
              "</div>"
            ],
            "text/plain": [
              "    age     sex\n",
              "0    19  female\n",
              "12   23    male\n",
              "15   19    male\n",
              "18   56    male\n",
              "19   30    male\n",
              "21   30  female\n",
              "29   31    male"
            ]
          },
          "metadata": {
            "tags": []
          },
          "execution_count": 12
        }
      ]
    },
    {
      "cell_type": "markdown",
      "metadata": {
        "id": "0c0fe45c-fbd2-4e90-acd9-71a3eb3784e9"
      },
      "source": [
        "Fíjate que la numeración de filas hace referencia a las filas 0, 12, 15, 18, 19, 21 y 29, que son  las siete primeras filas que pertenecen en la región southwest de la tabla madre data_base. \n",
        "Si queremos ver aquellas observaciones de la base de datos principal que tengan un bmi entre 35 y 45, tendremos que declarar dos condicionales: "
      ],
      "id": "0c0fe45c-fbd2-4e90-acd9-71a3eb3784e9"
    },
    {
      "cell_type": "code",
      "metadata": {
        "id": "df59911f-51d8-425f-921a-f79b5f4f2d6e",
        "colab": {
          "base_uri": "https://localhost:8080/",
          "height": 297
        },
        "outputId": "c5fabe5e-b740-4b83-a411-61414e5840ce"
      },
      "source": [
        "data_base.loc[(data_base.bmi >= 35) & (data_base.bmi <= 45)].describe()"
      ],
      "id": "df59911f-51d8-425f-921a-f79b5f4f2d6e",
      "execution_count": null,
      "outputs": [
        {
          "output_type": "execute_result",
          "data": {
            "text/html": [
              "<div>\n",
              "<style scoped>\n",
              "    .dataframe tbody tr th:only-of-type {\n",
              "        vertical-align: middle;\n",
              "    }\n",
              "\n",
              "    .dataframe tbody tr th {\n",
              "        vertical-align: top;\n",
              "    }\n",
              "\n",
              "    .dataframe thead th {\n",
              "        text-align: right;\n",
              "    }\n",
              "</style>\n",
              "<table border=\"1\" class=\"dataframe\">\n",
              "  <thead>\n",
              "    <tr style=\"text-align: right;\">\n",
              "      <th></th>\n",
              "      <th>age</th>\n",
              "      <th>bmi</th>\n",
              "      <th>children</th>\n",
              "      <th>charges</th>\n",
              "    </tr>\n",
              "  </thead>\n",
              "  <tbody>\n",
              "    <tr>\n",
              "      <th>count</th>\n",
              "      <td>296.000000</td>\n",
              "      <td>296.000000</td>\n",
              "      <td>296.000000</td>\n",
              "      <td>296.000000</td>\n",
              "    </tr>\n",
              "    <tr>\n",
              "      <th>mean</th>\n",
              "      <td>41.679054</td>\n",
              "      <td>38.301976</td>\n",
              "      <td>1.027027</td>\n",
              "      <td>16913.681515</td>\n",
              "    </tr>\n",
              "    <tr>\n",
              "      <th>std</th>\n",
              "      <td>14.550498</td>\n",
              "      <td>2.427277</td>\n",
              "      <td>1.149479</td>\n",
              "      <td>15367.757351</td>\n",
              "    </tr>\n",
              "    <tr>\n",
              "      <th>min</th>\n",
              "      <td>18.000000</td>\n",
              "      <td>35.090000</td>\n",
              "      <td>0.000000</td>\n",
              "      <td>1141.445100</td>\n",
              "    </tr>\n",
              "    <tr>\n",
              "      <th>25%</th>\n",
              "      <td>30.000000</td>\n",
              "      <td>36.297500</td>\n",
              "      <td>0.000000</td>\n",
              "      <td>5745.351188</td>\n",
              "    </tr>\n",
              "    <tr>\n",
              "      <th>50%</th>\n",
              "      <td>43.500000</td>\n",
              "      <td>37.707500</td>\n",
              "      <td>1.000000</td>\n",
              "      <td>10979.853800</td>\n",
              "    </tr>\n",
              "    <tr>\n",
              "      <th>75%</th>\n",
              "      <td>54.000000</td>\n",
              "      <td>39.840000</td>\n",
              "      <td>2.000000</td>\n",
              "      <td>26781.395215</td>\n",
              "    </tr>\n",
              "    <tr>\n",
              "      <th>max</th>\n",
              "      <td>64.000000</td>\n",
              "      <td>44.880000</td>\n",
              "      <td>5.000000</td>\n",
              "      <td>58571.074480</td>\n",
              "    </tr>\n",
              "  </tbody>\n",
              "</table>\n",
              "</div>"
            ],
            "text/plain": [
              "              age         bmi    children       charges\n",
              "count  296.000000  296.000000  296.000000    296.000000\n",
              "mean    41.679054   38.301976    1.027027  16913.681515\n",
              "std     14.550498    2.427277    1.149479  15367.757351\n",
              "min     18.000000   35.090000    0.000000   1141.445100\n",
              "25%     30.000000   36.297500    0.000000   5745.351188\n",
              "50%     43.500000   37.707500    1.000000  10979.853800\n",
              "75%     54.000000   39.840000    2.000000  26781.395215\n",
              "max     64.000000   44.880000    5.000000  58571.074480"
            ]
          },
          "metadata": {
            "tags": []
          },
          "execution_count": 13
        }
      ]
    },
    {
      "cell_type": "markdown",
      "metadata": {
        "id": "741eb135-4939-4e8a-9fdf-38fe5f3eb90e"
      },
      "source": [
        "Hemos aplicado la función describe(), para ver qué valores máximos y mínimos tiene la  columna bmi de esta tabla reducida: \n",
        "\n",
        "Efectivamente, vemos que, en esta tabla reducida, solo tenemos aquellas filas que tienen un  valor de bmi entre 35 y 45.  \n",
        "Por último, vamos a crear una columna nueva. Sus valores dependerán del valor de bmi de  cada fila. El código es el siguiente:"
      ],
      "id": "741eb135-4939-4e8a-9fdf-38fe5f3eb90e"
    },
    {
      "cell_type": "code",
      "metadata": {
        "id": "82369a97-985d-4e94-aa8c-6795a98d5376",
        "colab": {
          "base_uri": "https://localhost:8080/",
          "height": 204
        },
        "outputId": "3e56a75a-5abe-4b5c-9732-02444de950f2"
      },
      "source": [
        "approved = []\n",
        "for bmi in data_base['bmi']:\n",
        "    if bmi < 45:\n",
        "        approved.append(True)\n",
        "    else:\n",
        "        approved.append(False) \n",
        "data_base['approved'] = approved  \n",
        "data_base.head()"
      ],
      "id": "82369a97-985d-4e94-aa8c-6795a98d5376",
      "execution_count": null,
      "outputs": [
        {
          "output_type": "execute_result",
          "data": {
            "text/html": [
              "<div>\n",
              "<style scoped>\n",
              "    .dataframe tbody tr th:only-of-type {\n",
              "        vertical-align: middle;\n",
              "    }\n",
              "\n",
              "    .dataframe tbody tr th {\n",
              "        vertical-align: top;\n",
              "    }\n",
              "\n",
              "    .dataframe thead th {\n",
              "        text-align: right;\n",
              "    }\n",
              "</style>\n",
              "<table border=\"1\" class=\"dataframe\">\n",
              "  <thead>\n",
              "    <tr style=\"text-align: right;\">\n",
              "      <th></th>\n",
              "      <th>age</th>\n",
              "      <th>sex</th>\n",
              "      <th>bmi</th>\n",
              "      <th>children</th>\n",
              "      <th>smoker</th>\n",
              "      <th>region</th>\n",
              "      <th>charges</th>\n",
              "      <th>approved</th>\n",
              "    </tr>\n",
              "  </thead>\n",
              "  <tbody>\n",
              "    <tr>\n",
              "      <th>0</th>\n",
              "      <td>19</td>\n",
              "      <td>female</td>\n",
              "      <td>27.900</td>\n",
              "      <td>0</td>\n",
              "      <td>yes</td>\n",
              "      <td>southwest</td>\n",
              "      <td>16884.92400</td>\n",
              "      <td>True</td>\n",
              "    </tr>\n",
              "    <tr>\n",
              "      <th>1</th>\n",
              "      <td>18</td>\n",
              "      <td>male</td>\n",
              "      <td>33.770</td>\n",
              "      <td>1</td>\n",
              "      <td>no</td>\n",
              "      <td>southeast</td>\n",
              "      <td>1725.55230</td>\n",
              "      <td>True</td>\n",
              "    </tr>\n",
              "    <tr>\n",
              "      <th>2</th>\n",
              "      <td>28</td>\n",
              "      <td>male</td>\n",
              "      <td>33.000</td>\n",
              "      <td>3</td>\n",
              "      <td>no</td>\n",
              "      <td>southeast</td>\n",
              "      <td>4449.46200</td>\n",
              "      <td>True</td>\n",
              "    </tr>\n",
              "    <tr>\n",
              "      <th>3</th>\n",
              "      <td>33</td>\n",
              "      <td>male</td>\n",
              "      <td>22.705</td>\n",
              "      <td>0</td>\n",
              "      <td>no</td>\n",
              "      <td>northwest</td>\n",
              "      <td>21984.47061</td>\n",
              "      <td>True</td>\n",
              "    </tr>\n",
              "    <tr>\n",
              "      <th>4</th>\n",
              "      <td>32</td>\n",
              "      <td>male</td>\n",
              "      <td>28.880</td>\n",
              "      <td>0</td>\n",
              "      <td>no</td>\n",
              "      <td>northwest</td>\n",
              "      <td>3866.85520</td>\n",
              "      <td>True</td>\n",
              "    </tr>\n",
              "  </tbody>\n",
              "</table>\n",
              "</div>"
            ],
            "text/plain": [
              "   age     sex     bmi  children smoker     region      charges  approved\n",
              "0   19  female  27.900         0    yes  southwest  16884.92400      True\n",
              "1   18    male  33.770         1     no  southeast   1725.55230      True\n",
              "2   28    male  33.000         3     no  southeast   4449.46200      True\n",
              "3   33    male  22.705         0     no  northwest  21984.47061      True\n",
              "4   32    male  28.880         0     no  northwest   3866.85520      True"
            ]
          },
          "metadata": {
            "tags": []
          },
          "execution_count": 14
        }
      ]
    },
    {
      "cell_type": "markdown",
      "metadata": {
        "id": "e95659f9-425f-4db9-bc4b-f4d1726501fc"
      },
      "source": [
        "Lo que estamos haciendo es dar un valor a cada fila de la columna approved de True o False,  según si el valor de bmi de la misma fila es superior o inferior a 45. Veamos los cinco primeros  registros con la nueva columna:"
      ],
      "id": "e95659f9-425f-4db9-bc4b-f4d1726501fc"
    }
  ]
}