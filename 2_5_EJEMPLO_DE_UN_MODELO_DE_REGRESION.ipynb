{
  "nbformat": 4,
  "nbformat_minor": 0,
  "metadata": {
    "colab": {
      "name": "2_5_EJEMPLO_DE_UN_MODELO DE_REGRESION",
      "provenance": [],
      "authorship_tag": "ABX9TyNgVL/DZS54YpmItxEqE8Wb",
      "include_colab_link": true
    },
    "kernelspec": {
      "name": "python3",
      "display_name": "Python 3"
    },
    "language_info": {
      "name": "python"
    }
  },
  "cells": [
    {
      "cell_type": "markdown",
      "metadata": {
        "id": "view-in-github",
        "colab_type": "text"
      },
      "source": [
        "<a href=\"https://colab.research.google.com/github/leobioinf0/233_Introduccion_a_la_ciencia_de_datos/blob/main/2_5_EJEMPLO_DE_UN_MODELO_DE_REGRESION.ipynb\" target=\"_parent\"><img src=\"https://colab.research.google.com/assets/colab-badge.svg\" alt=\"Open In Colab\"/></a>"
      ]
    },
    {
      "cell_type": "code",
      "metadata": {
        "colab": {
          "base_uri": "https://localhost:8080/",
          "height": 204
        },
        "id": "ZoC-m0sN_Ckt",
        "outputId": "430110a1-06cd-48a6-bf57-0574a9a286ba"
      },
      "source": [
        "import pandas as pd\n",
        "data_frame = pd.read_csv('./iris.csv')\n",
        "data_frame.head()"
      ],
      "execution_count": 5,
      "outputs": [
        {
          "output_type": "execute_result",
          "data": {
            "text/html": [
              "<div>\n",
              "<style scoped>\n",
              "    .dataframe tbody tr th:only-of-type {\n",
              "        vertical-align: middle;\n",
              "    }\n",
              "\n",
              "    .dataframe tbody tr th {\n",
              "        vertical-align: top;\n",
              "    }\n",
              "\n",
              "    .dataframe thead th {\n",
              "        text-align: right;\n",
              "    }\n",
              "</style>\n",
              "<table border=\"1\" class=\"dataframe\">\n",
              "  <thead>\n",
              "    <tr style=\"text-align: right;\">\n",
              "      <th></th>\n",
              "      <th>Unnamed: 0</th>\n",
              "      <th>Sepal.Length</th>\n",
              "      <th>Sepal.Width</th>\n",
              "      <th>Petal.Length</th>\n",
              "      <th>Petal.Width</th>\n",
              "      <th>Species</th>\n",
              "    </tr>\n",
              "  </thead>\n",
              "  <tbody>\n",
              "    <tr>\n",
              "      <th>0</th>\n",
              "      <td>1</td>\n",
              "      <td>5.1</td>\n",
              "      <td>3.5</td>\n",
              "      <td>1.4</td>\n",
              "      <td>0.2</td>\n",
              "      <td>setosa</td>\n",
              "    </tr>\n",
              "    <tr>\n",
              "      <th>1</th>\n",
              "      <td>2</td>\n",
              "      <td>4.9</td>\n",
              "      <td>3.0</td>\n",
              "      <td>1.4</td>\n",
              "      <td>0.2</td>\n",
              "      <td>setosa</td>\n",
              "    </tr>\n",
              "    <tr>\n",
              "      <th>2</th>\n",
              "      <td>3</td>\n",
              "      <td>4.7</td>\n",
              "      <td>3.2</td>\n",
              "      <td>1.3</td>\n",
              "      <td>0.2</td>\n",
              "      <td>setosa</td>\n",
              "    </tr>\n",
              "    <tr>\n",
              "      <th>3</th>\n",
              "      <td>4</td>\n",
              "      <td>4.6</td>\n",
              "      <td>3.1</td>\n",
              "      <td>1.5</td>\n",
              "      <td>0.2</td>\n",
              "      <td>setosa</td>\n",
              "    </tr>\n",
              "    <tr>\n",
              "      <th>4</th>\n",
              "      <td>5</td>\n",
              "      <td>5.0</td>\n",
              "      <td>3.6</td>\n",
              "      <td>1.4</td>\n",
              "      <td>0.2</td>\n",
              "      <td>setosa</td>\n",
              "    </tr>\n",
              "  </tbody>\n",
              "</table>\n",
              "</div>"
            ],
            "text/plain": [
              "   Unnamed: 0  Sepal.Length  Sepal.Width  Petal.Length  Petal.Width Species\n",
              "0           1           5.1          3.5           1.4          0.2  setosa\n",
              "1           2           4.9          3.0           1.4          0.2  setosa\n",
              "2           3           4.7          3.2           1.3          0.2  setosa\n",
              "3           4           4.6          3.1           1.5          0.2  setosa\n",
              "4           5           5.0          3.6           1.4          0.2  setosa"
            ]
          },
          "metadata": {
            "tags": []
          },
          "execution_count": 5
        }
      ]
    },
    {
      "cell_type": "markdown",
      "metadata": {
        "id": "SPbL0Ogx_Quk"
      },
      "source": [
        "Una vez tenemos la base de datos cargada, necesitamos importar otros módulos que nos permitan seleccionar parte de los datos, para poder entrenar el modelo.\n"
      ]
    },
    {
      "cell_type": "code",
      "metadata": {
        "id": "7JXcN95K_T2o"
      },
      "source": [
        "from sklearn.model_selection import train_test_split"
      ],
      "execution_count": 6,
      "outputs": []
    },
    {
      "cell_type": "markdown",
      "metadata": {
        "id": "wR-0fXd9_VO_"
      },
      "source": [
        "Después, importaremos concretamente el modelo que queremos usar a partir de una\n",
        "regresión lineal."
      ]
    },
    {
      "cell_type": "code",
      "metadata": {
        "id": "mW0vcM_W_XEl"
      },
      "source": [
        "from sklearn.linear_model import LinearRegression"
      ],
      "execution_count": 7,
      "outputs": []
    },
    {
      "cell_type": "markdown",
      "metadata": {
        "id": "HosHcijx_YjO"
      },
      "source": [
        "Después de importar estas librerías, lo que haremos será seleccionar solo las columnas\n",
        "“Petal.Width” y “Petal.Length”, y las guardaremos en otra variable. Esta variable estará\n",
        "guardando otra base de datos."
      ]
    },
    {
      "cell_type": "code",
      "metadata": {
        "colab": {
          "base_uri": "https://localhost:8080/",
          "height": 204
        },
        "id": "YeJeyDsd_aLt",
        "outputId": "ece9e056-7962-40cc-9d2f-60aa62511de1"
      },
      "source": [
        "df = data_frame[['Petal.Length','Petal.Width']]\n",
        "df.head()"
      ],
      "execution_count": 8,
      "outputs": [
        {
          "output_type": "execute_result",
          "data": {
            "text/html": [
              "<div>\n",
              "<style scoped>\n",
              "    .dataframe tbody tr th:only-of-type {\n",
              "        vertical-align: middle;\n",
              "    }\n",
              "\n",
              "    .dataframe tbody tr th {\n",
              "        vertical-align: top;\n",
              "    }\n",
              "\n",
              "    .dataframe thead th {\n",
              "        text-align: right;\n",
              "    }\n",
              "</style>\n",
              "<table border=\"1\" class=\"dataframe\">\n",
              "  <thead>\n",
              "    <tr style=\"text-align: right;\">\n",
              "      <th></th>\n",
              "      <th>Petal.Length</th>\n",
              "      <th>Petal.Width</th>\n",
              "    </tr>\n",
              "  </thead>\n",
              "  <tbody>\n",
              "    <tr>\n",
              "      <th>0</th>\n",
              "      <td>1.4</td>\n",
              "      <td>0.2</td>\n",
              "    </tr>\n",
              "    <tr>\n",
              "      <th>1</th>\n",
              "      <td>1.4</td>\n",
              "      <td>0.2</td>\n",
              "    </tr>\n",
              "    <tr>\n",
              "      <th>2</th>\n",
              "      <td>1.3</td>\n",
              "      <td>0.2</td>\n",
              "    </tr>\n",
              "    <tr>\n",
              "      <th>3</th>\n",
              "      <td>1.5</td>\n",
              "      <td>0.2</td>\n",
              "    </tr>\n",
              "    <tr>\n",
              "      <th>4</th>\n",
              "      <td>1.4</td>\n",
              "      <td>0.2</td>\n",
              "    </tr>\n",
              "  </tbody>\n",
              "</table>\n",
              "</div>"
            ],
            "text/plain": [
              "   Petal.Length  Petal.Width\n",
              "0           1.4          0.2\n",
              "1           1.4          0.2\n",
              "2           1.3          0.2\n",
              "3           1.5          0.2\n",
              "4           1.4          0.2"
            ]
          },
          "metadata": {
            "tags": []
          },
          "execution_count": 8
        }
      ]
    },
    {
      "cell_type": "markdown",
      "metadata": {
        "id": "yLELI-RT_baf"
      },
      "source": [
        "Ahora, nos toca seleccionar de manera aleatoria una serie de observaciones para entrenar el\n",
        "modelo. Concretamente, estamos cogiendo el 80 % de los registros y dejaremos el 20 %\n",
        "restante para testar nuestro modelo."
      ]
    },
    {
      "cell_type": "code",
      "metadata": {
        "id": "fPjqZknJ_fJW"
      },
      "source": [
        "train_set, test_set = train_test_split(df, test_size=0.2, random_state=42)"
      ],
      "execution_count": 9,
      "outputs": []
    },
    {
      "cell_type": "markdown",
      "metadata": {
        "id": "QRKo5_60_f7n"
      },
      "source": [
        "Antes de continuar, guardaremos una copia del traint_set en una nueva variable."
      ]
    },
    {
      "cell_type": "code",
      "metadata": {
        "id": "VPp4fVm-_kr2"
      },
      "source": [
        "df_copy = train_set.copy()"
      ],
      "execution_count": 10,
      "outputs": []
    },
    {
      "cell_type": "markdown",
      "metadata": {
        "id": "O_BuBZN2_j8n"
      },
      "source": [
        "Una vez hemos hecho esto, aplicaremos la función corr() para ver cómo están relacionados\n",
        "los valores de las dos columnas de la parte de entrenamiento. Recuerda que ahora ya no\n",
        "estamos trabajando con toda la base de datos inicial. Primero, hemos seleccionado las\n",
        "columnas que queríamos estudiar y, después, hemos cogido el 80 % para entrenar el modelo."
      ]
    },
    {
      "cell_type": "code",
      "metadata": {
        "colab": {
          "base_uri": "https://localhost:8080/",
          "height": 111
        },
        "id": "x4iW_grN_pHE",
        "outputId": "50e030f8-38a6-4142-e046-191d24877aff"
      },
      "source": [
        "df_copy.corr()"
      ],
      "execution_count": 11,
      "outputs": [
        {
          "output_type": "execute_result",
          "data": {
            "text/html": [
              "<div>\n",
              "<style scoped>\n",
              "    .dataframe tbody tr th:only-of-type {\n",
              "        vertical-align: middle;\n",
              "    }\n",
              "\n",
              "    .dataframe tbody tr th {\n",
              "        vertical-align: top;\n",
              "    }\n",
              "\n",
              "    .dataframe thead th {\n",
              "        text-align: right;\n",
              "    }\n",
              "</style>\n",
              "<table border=\"1\" class=\"dataframe\">\n",
              "  <thead>\n",
              "    <tr style=\"text-align: right;\">\n",
              "      <th></th>\n",
              "      <th>Petal.Length</th>\n",
              "      <th>Petal.Width</th>\n",
              "    </tr>\n",
              "  </thead>\n",
              "  <tbody>\n",
              "    <tr>\n",
              "      <th>Petal.Length</th>\n",
              "      <td>1.000000</td>\n",
              "      <td>0.962577</td>\n",
              "    </tr>\n",
              "    <tr>\n",
              "      <th>Petal.Width</th>\n",
              "      <td>0.962577</td>\n",
              "      <td>1.000000</td>\n",
              "    </tr>\n",
              "  </tbody>\n",
              "</table>\n",
              "</div>"
            ],
            "text/plain": [
              "              Petal.Length  Petal.Width\n",
              "Petal.Length      1.000000     0.962577\n",
              "Petal.Width       0.962577     1.000000"
            ]
          },
          "metadata": {
            "tags": []
          },
          "execution_count": 11
        }
      ]
    },
    {
      "cell_type": "markdown",
      "metadata": {
        "id": "XnQul0n0_q5a"
      },
      "source": [
        "Un valor de 0,9625 es bastante alto. La relación es muy estrecha . Recuerda que R mide cómo\n",
        "están de relacionadas entre sí dos variables. Cuanto más próximo sea este valor a 1 o –1, más\n",
        "estrecha será la relación. Esto querrá decir que un cambio en una variable afectará\n",
        "directamente a la otra."
      ]
    },
    {
      "cell_type": "code",
      "metadata": {
        "id": "jDyuTr7Z_JcH"
      },
      "source": [
        "from sklearn.metrics import r2_score"
      ],
      "execution_count": 12,
      "outputs": []
    },
    {
      "cell_type": "markdown",
      "metadata": {
        "id": "gikLoTCs_duW"
      },
      "source": [
        "Ahora sería interesante visualizar los valores de las dos columnas en una gráfica. Por eso,\n",
        "importamos el módulo siguiente:"
      ]
    },
    {
      "cell_type": "code",
      "metadata": {
        "id": "3MYYVoJc_8_x"
      },
      "source": [
        "import matplotlib.pyplot as plt"
      ],
      "execution_count": 13,
      "outputs": []
    },
    {
      "cell_type": "markdown",
      "metadata": {
        "id": "jRldBrEC_-Ky"
      },
      "source": [
        "Asignamos, ahora, qué columna corresponderá al eje X y cuál al eje Y , y ya lo tenemos."
      ]
    },
    {
      "cell_type": "code",
      "metadata": {
        "colab": {
          "base_uri": "https://localhost:8080/",
          "height": 296
        },
        "id": "ZD67lYzmACvS",
        "outputId": "b46ded78-2105-4dfd-8b6f-fbbd09926b2f"
      },
      "source": [
        "df_copy.plot.scatter(x='Petal.Length', y='Petal.Width')"
      ],
      "execution_count": 14,
      "outputs": [
        {
          "output_type": "execute_result",
          "data": {
            "text/plain": [
              "<matplotlib.axes._subplots.AxesSubplot at 0x7f2bc60eaf90>"
            ]
          },
          "metadata": {
            "tags": []
          },
          "execution_count": 14
        },
        {
          "output_type": "display_data",
          "data": {
            "image/png": "[encoded data removed]",
            "text/plain": [
              "<Figure size 432x288 with 1 Axes>"
            ]
          },
          "metadata": {
            "tags": [],
            "needs_background": "light"
          }
        }
      ]
    },
    {
      "cell_type": "markdown",
      "metadata": {
        "id": "mAGME5I3AEOw"
      },
      "source": [
        "Se ve claramente como las dos variables están estrechamente ligadas. Cuando una crece,\n",
        "también lo hace la otra, tal como nos indicaba el resultado de la función corr() .\n",
        "Bien, ahora viene el paso decisivo: aplicar el modelo escogido."
      ]
    },
    {
      "cell_type": "code",
      "metadata": {
        "id": "E9u92MNGAGSc"
      },
      "source": [
        "train_set_x = df_copy.drop([\"Petal.Width\"], axis=1)\n",
        "train_set_label = df_copy[\"Petal.Width\"]"
      ],
      "execution_count": 16,
      "outputs": []
    },
    {
      "cell_type": "markdown",
      "metadata": {
        "id": "M1h_KU0ZAIr7"
      },
      "source": [
        "Con este código, lo que estamos haciendo es decirle al modelo cuál será la variable\n",
        "independiente y cuál será la variable de la que queremos predecir los resultados en función\n",
        "de la primera."
      ]
    },
    {
      "cell_type": "code",
      "metadata": {
        "colab": {
          "base_uri": "https://localhost:8080/"
        },
        "id": "ZmxZ1ypIAJOJ",
        "outputId": "7814f924-20b1-476a-a41f-4d7f3112e463"
      },
      "source": [
        "lin_reg = LinearRegression()\n",
        "lin_reg.fit(train_set_x, train_set_label)"
      ],
      "execution_count": 19,
      "outputs": [
        {
          "output_type": "execute_result",
          "data": {
            "text/plain": [
              "LinearRegression(copy_X=True, fit_intercept=True, n_jobs=None, normalize=False)"
            ]
          },
          "metadata": {
            "tags": []
          },
          "execution_count": 19
        }
      ]
    },
    {
      "cell_type": "markdown",
      "metadata": {
        "id": "g2LWUqTRAMJv"
      },
      "source": [
        "Creamos una instancia del objeto LinearRegression() y usamos la función fit() que contiene,\n",
        "para aplicar el modelo. Además, este objeto lin_reg también incorpora coef e intercept ."
      ]
    },
    {
      "cell_type": "code",
      "metadata": {
        "colab": {
          "base_uri": "https://localhost:8080/"
        },
        "id": "BVDEjWuX_7Ld",
        "outputId": "ca6b9b9d-52d5-495b-bad3-7d11c82baa91"
      },
      "source": [
        "print(\"Coefficients: \", lin_reg.coef_)\n",
        "print(\"Intercept: \", lin_reg.intercept_)"
      ],
      "execution_count": 21,
      "outputs": [
        {
          "output_type": "stream",
          "text": [
            "Coefficients:  [0.41323829]\n",
            "Intercept:  -0.35666804105655303\n"
          ],
          "name": "stdout"
        }
      ]
    },
    {
      "cell_type": "markdown",
      "metadata": {
        "id": "QfpjsIYsAO5i"
      },
      "source": [
        "Los resultados que obtenemos son:\n",
        "\n",
        "Coefficients: [0.41323829]\n",
        "\n",
        "Intercept: -0.3566680410565528"
      ]
    },
    {
      "cell_type": "markdown",
      "metadata": {
        "id": "UmZxyOUVAUKH"
      },
      "source": [
        "Con estos valores, ya podemos escribir la fórmula matemática que define la regresión lineal:\n",
        "$$Petal.width = 0.4132*Petal.Length – 0.3566$$\n",
        "Pero, en vez de hacerlo a mano, el objeto lin_reg nos da la función predict(), en la que, si\n",
        "ponemos el valor de la longitud del pétalo como argumento, esta nos devolverá el valor de la\n",
        "anchura que predice."
      ]
    }
  ]
}